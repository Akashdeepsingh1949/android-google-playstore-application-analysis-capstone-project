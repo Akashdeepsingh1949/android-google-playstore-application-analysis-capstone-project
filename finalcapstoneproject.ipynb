{
  "cells": [
    {
      "cell_type": "markdown",
      "source": [
        "# Name:- ***Naresh Kumar & Akashdeep Singh***\n",
        "#Student Id:- ***0767830 & 0771949***\n",
        "#Capstone Project Name :- ***GOOGLE PLAY STORE APPLICATION ANALYSIS***"
      ],
      "metadata": {
        "id": "n5M9HGMIDF30"
      }
    },
    {
      "cell_type": "code",
      "execution_count": null,
      "metadata": {
        "id": "LE8lVxt9s_1-"
      },
      "outputs": [],
      "source": [
        "#Import libraries\n",
        "\n",
        "import pandas as pd #(used for data mnipulation nd analysis)\n",
        "import matplotlib.pyplot as plt # to create plots\n",
        "import seaborn as sns #Used for data visualising and exploratory data analysis\n",
        "import numpy as np # used for mathematiucal calculations\n",
        "import warnings \n",
        "warnings.filterwarnings('ignore')"
      ]
    },
    {
      "cell_type": "code",
      "execution_count": null,
      "metadata": {
        "id": "j6JBplDWtPBq"
      },
      "outputs": [],
      "source": [
        "data = pd.read_csv('/content/androiddataset.csv')"
      ]
    },
    {
      "cell_type": "code",
      "execution_count": null,
      "metadata": {
        "colab": {
          "base_uri": "https://localhost:8080/"
        },
        "id": "5fKbmgs4ta3E",
        "outputId": "9e4d91be-cb9a-474f-b45c-574544e9a983"
      },
      "outputs": [
        {
          "output_type": "execute_result",
          "data": {
            "text/plain": [
              "(1048575, 24)"
            ]
          },
          "metadata": {},
          "execution_count": 92
        }
      ],
      "source": [
        "#check the shape(number of records and attributes in data frame)\n",
        "data.shape"
      ]
    },
    {
      "cell_type": "code",
      "execution_count": null,
      "metadata": {
        "colab": {
          "base_uri": "https://localhost:8080/",
          "height": 786
        },
        "id": "XZkDjwnKtuzs",
        "outputId": "1da8c85f-9ba7-4981-92e8-a50bd2ca9753"
      },
      "outputs": [
        {
          "output_type": "execute_result",
          "data": {
            "text/plain": [
              "                                            App_Name  \\\n",
              "0                                            Gakondo   \n",
              "1                                Ampere Battery Info   \n",
              "2                                             Vibook   \n",
              "3  Smart City Trichy Public Service Vehicles 17UC...   \n",
              "4                                            GROW.me   \n",
              "5                                             IMOCCI   \n",
              "6                   unlimited 4G data prank free app   \n",
              "7                              The Everyday Calendar   \n",
              "8                                          WhatsOpen   \n",
              "9                   Neon 3d Iron Tech Keyboard Theme   \n",
              "\n",
              "                                          App_Id          Category  Rating  \\\n",
              "0                            com.ishakwe.gakondo         Adventure     0.0   \n",
              "1                     com.webserveis.batteryinfo             Tools     4.4   \n",
              "2                           com.doantiepvien.crm      Productivity     0.0   \n",
              "3                        cst.stJoseph.ug17ucs548     Communication     5.0   \n",
              "4                           com.horodyski.grower             Tools     0.0   \n",
              "5                                     com.imocci            Social     0.0   \n",
              "6  getfreedata.superfatiza.unlimitedjiodataprank  Libraries & Demo     4.5   \n",
              "7                         com.mozaix.simoneboard         Lifestyle     2.0   \n",
              "8                              com.whatsopen.app     Communication     0.0   \n",
              "9          com.ikeyboard.theme.neon_3d.iron.tech   Personalization     4.7   \n",
              "\n",
              "   Rating_Count Installs  Minimum_Installs  Maximum_Installs  Free  Price  \\\n",
              "0           0.0      10+              10.0                15  True    0.0   \n",
              "1          64.0   5,000+            5000.0              7662  True    0.0   \n",
              "2           0.0      50+              50.0                58  True    0.0   \n",
              "3           5.0      10+              10.0                19  True    0.0   \n",
              "4           0.0     100+             100.0               478  True    0.0   \n",
              "5           0.0      50+              50.0                89  True    0.0   \n",
              "6          12.0   1,000+            1000.0              2567  True    0.0   \n",
              "7          39.0     500+             500.0               702  True    0.0   \n",
              "8           0.0      10+              10.0                18  True    0.0   \n",
              "9         820.0  50,000+           50000.0             62433  True    0.0   \n",
              "\n",
              "   ...                    Developer_Website                  Developer_Email  \\\n",
              "0  ...          https://beniyizibyose.tk/#/           jean21101999@gmail.com   \n",
              "1  ...      https://webserveis.netlify.app/             webserveis@gmail.com   \n",
              "2  ...                                  NaN              vnacrewit@gmail.com   \n",
              "3  ...     http://www.climatesmarttech.com/      climatesmarttech2@gmail.com   \n",
              "4  ...          http://www.horodyski.com.pl        rmilekhorodyski@gmail.com   \n",
              "5  ...                http://www.imocci.com                  info@imocci.com   \n",
              "6  ...                                  NaN  aitomgharfatimezzahra@gmail.com   \n",
              "7  ...                                  NaN          elementuser03@gmail.com   \n",
              "8  ...             http://yilvermolinah.com          yilver.mh1996@gmail.com   \n",
              "9  ...  https://trendyteme888-31139.web.app         trendyteme.888@gmail.com   \n",
              "\n",
              "    Released Last_Updated Content_Rating  \\\n",
              "0  26-Feb-20    26-Feb-20       Everyone   \n",
              "1  21-May-20     6-May-21       Everyone   \n",
              "2   9-Aug-19    19-Aug-19       Everyone   \n",
              "3  10-Sep-18    13-Oct-18       Everyone   \n",
              "4  21-Feb-20    12-Nov-18       Everyone   \n",
              "5  24-Dec-18    20-Dec-19           Teen   \n",
              "6  23-Sep-19    27-Sep-19       Everyone   \n",
              "7  21-Jun-19    21-Jun-19       Everyone   \n",
              "8        NaN     7-Dec-18           Teen   \n",
              "9  22-Sep-19     7-Oct-20       Everyone   \n",
              "\n",
              "                                      Privacy_Policy Ad_Supported  \\\n",
              "0                 https://beniyizibyose.tk/projects/        False   \n",
              "1  https://dev4phones.wordpress.com/licencia-de-uso/         True   \n",
              "2  https://www.vietnamairlines.com/vn/en/terms-an...        False   \n",
              "3                                                NaN         True   \n",
              "4                        http://www.horodyski.com.pl        False   \n",
              "5  https://www.imocci.com/wp-content/uploads/2018...        False   \n",
              "6  https://sites.google.com/view/unlimited4gdatap...         True   \n",
              "7  https://www.freeprivacypolicy.com/privacy/view...        False   \n",
              "8  http://elcafedelamanana.yilvermolinah.com/poli...        False   \n",
              "9                        http://bit.ly/EmojiThemePro         True   \n",
              "\n",
              "  In_App_Purchases Editors_Choice     Scraped_Time  \n",
              "0            False          False  6/15/2021 20:19  \n",
              "1            False          False  6/15/2021 20:19  \n",
              "2            False          False  6/15/2021 20:19  \n",
              "3            False          False  6/15/2021 20:19  \n",
              "4            False          False  6/15/2021 20:19  \n",
              "5             True          False  6/15/2021 20:19  \n",
              "6            False          False  6/15/2021 20:19  \n",
              "7            False          False  6/15/2021 20:19  \n",
              "8            False          False  6/15/2021 20:19  \n",
              "9            False          False  6/15/2021 20:19  \n",
              "\n",
              "[10 rows x 24 columns]"
            ],
            "text/html": [
              "\n",
              "  <div id=\"df-598a04b3-891f-4cb3-b49b-5ba8e0634137\">\n",
              "    <div class=\"colab-df-container\">\n",
              "      <div>\n",
              "<style scoped>\n",
              "    .dataframe tbody tr th:only-of-type {\n",
              "        vertical-align: middle;\n",
              "    }\n",
              "\n",
              "    .dataframe tbody tr th {\n",
              "        vertical-align: top;\n",
              "    }\n",
              "\n",
              "    .dataframe thead th {\n",
              "        text-align: right;\n",
              "    }\n",
              "</style>\n",
              "<table border=\"1\" class=\"dataframe\">\n",
              "  <thead>\n",
              "    <tr style=\"text-align: right;\">\n",
              "      <th></th>\n",
              "      <th>App_Name</th>\n",
              "      <th>App_Id</th>\n",
              "      <th>Category</th>\n",
              "      <th>Rating</th>\n",
              "      <th>Rating_Count</th>\n",
              "      <th>Installs</th>\n",
              "      <th>Minimum_Installs</th>\n",
              "      <th>Maximum_Installs</th>\n",
              "      <th>Free</th>\n",
              "      <th>Price</th>\n",
              "      <th>...</th>\n",
              "      <th>Developer_Website</th>\n",
              "      <th>Developer_Email</th>\n",
              "      <th>Released</th>\n",
              "      <th>Last_Updated</th>\n",
              "      <th>Content_Rating</th>\n",
              "      <th>Privacy_Policy</th>\n",
              "      <th>Ad_Supported</th>\n",
              "      <th>In_App_Purchases</th>\n",
              "      <th>Editors_Choice</th>\n",
              "      <th>Scraped_Time</th>\n",
              "    </tr>\n",
              "  </thead>\n",
              "  <tbody>\n",
              "    <tr>\n",
              "      <th>0</th>\n",
              "      <td>Gakondo</td>\n",
              "      <td>com.ishakwe.gakondo</td>\n",
              "      <td>Adventure</td>\n",
              "      <td>0.0</td>\n",
              "      <td>0.0</td>\n",
              "      <td>10+</td>\n",
              "      <td>10.0</td>\n",
              "      <td>15</td>\n",
              "      <td>True</td>\n",
              "      <td>0.0</td>\n",
              "      <td>...</td>\n",
              "      <td>https://beniyizibyose.tk/#/</td>\n",
              "      <td>jean21101999@gmail.com</td>\n",
              "      <td>26-Feb-20</td>\n",
              "      <td>26-Feb-20</td>\n",
              "      <td>Everyone</td>\n",
              "      <td>https://beniyizibyose.tk/projects/</td>\n",
              "      <td>False</td>\n",
              "      <td>False</td>\n",
              "      <td>False</td>\n",
              "      <td>6/15/2021 20:19</td>\n",
              "    </tr>\n",
              "    <tr>\n",
              "      <th>1</th>\n",
              "      <td>Ampere Battery Info</td>\n",
              "      <td>com.webserveis.batteryinfo</td>\n",
              "      <td>Tools</td>\n",
              "      <td>4.4</td>\n",
              "      <td>64.0</td>\n",
              "      <td>5,000+</td>\n",
              "      <td>5000.0</td>\n",
              "      <td>7662</td>\n",
              "      <td>True</td>\n",
              "      <td>0.0</td>\n",
              "      <td>...</td>\n",
              "      <td>https://webserveis.netlify.app/</td>\n",
              "      <td>webserveis@gmail.com</td>\n",
              "      <td>21-May-20</td>\n",
              "      <td>6-May-21</td>\n",
              "      <td>Everyone</td>\n",
              "      <td>https://dev4phones.wordpress.com/licencia-de-uso/</td>\n",
              "      <td>True</td>\n",
              "      <td>False</td>\n",
              "      <td>False</td>\n",
              "      <td>6/15/2021 20:19</td>\n",
              "    </tr>\n",
              "    <tr>\n",
              "      <th>2</th>\n",
              "      <td>Vibook</td>\n",
              "      <td>com.doantiepvien.crm</td>\n",
              "      <td>Productivity</td>\n",
              "      <td>0.0</td>\n",
              "      <td>0.0</td>\n",
              "      <td>50+</td>\n",
              "      <td>50.0</td>\n",
              "      <td>58</td>\n",
              "      <td>True</td>\n",
              "      <td>0.0</td>\n",
              "      <td>...</td>\n",
              "      <td>NaN</td>\n",
              "      <td>vnacrewit@gmail.com</td>\n",
              "      <td>9-Aug-19</td>\n",
              "      <td>19-Aug-19</td>\n",
              "      <td>Everyone</td>\n",
              "      <td>https://www.vietnamairlines.com/vn/en/terms-an...</td>\n",
              "      <td>False</td>\n",
              "      <td>False</td>\n",
              "      <td>False</td>\n",
              "      <td>6/15/2021 20:19</td>\n",
              "    </tr>\n",
              "    <tr>\n",
              "      <th>3</th>\n",
              "      <td>Smart City Trichy Public Service Vehicles 17UC...</td>\n",
              "      <td>cst.stJoseph.ug17ucs548</td>\n",
              "      <td>Communication</td>\n",
              "      <td>5.0</td>\n",
              "      <td>5.0</td>\n",
              "      <td>10+</td>\n",
              "      <td>10.0</td>\n",
              "      <td>19</td>\n",
              "      <td>True</td>\n",
              "      <td>0.0</td>\n",
              "      <td>...</td>\n",
              "      <td>http://www.climatesmarttech.com/</td>\n",
              "      <td>climatesmarttech2@gmail.com</td>\n",
              "      <td>10-Sep-18</td>\n",
              "      <td>13-Oct-18</td>\n",
              "      <td>Everyone</td>\n",
              "      <td>NaN</td>\n",
              "      <td>True</td>\n",
              "      <td>False</td>\n",
              "      <td>False</td>\n",
              "      <td>6/15/2021 20:19</td>\n",
              "    </tr>\n",
              "    <tr>\n",
              "      <th>4</th>\n",
              "      <td>GROW.me</td>\n",
              "      <td>com.horodyski.grower</td>\n",
              "      <td>Tools</td>\n",
              "      <td>0.0</td>\n",
              "      <td>0.0</td>\n",
              "      <td>100+</td>\n",
              "      <td>100.0</td>\n",
              "      <td>478</td>\n",
              "      <td>True</td>\n",
              "      <td>0.0</td>\n",
              "      <td>...</td>\n",
              "      <td>http://www.horodyski.com.pl</td>\n",
              "      <td>rmilekhorodyski@gmail.com</td>\n",
              "      <td>21-Feb-20</td>\n",
              "      <td>12-Nov-18</td>\n",
              "      <td>Everyone</td>\n",
              "      <td>http://www.horodyski.com.pl</td>\n",
              "      <td>False</td>\n",
              "      <td>False</td>\n",
              "      <td>False</td>\n",
              "      <td>6/15/2021 20:19</td>\n",
              "    </tr>\n",
              "    <tr>\n",
              "      <th>5</th>\n",
              "      <td>IMOCCI</td>\n",
              "      <td>com.imocci</td>\n",
              "      <td>Social</td>\n",
              "      <td>0.0</td>\n",
              "      <td>0.0</td>\n",
              "      <td>50+</td>\n",
              "      <td>50.0</td>\n",
              "      <td>89</td>\n",
              "      <td>True</td>\n",
              "      <td>0.0</td>\n",
              "      <td>...</td>\n",
              "      <td>http://www.imocci.com</td>\n",
              "      <td>info@imocci.com</td>\n",
              "      <td>24-Dec-18</td>\n",
              "      <td>20-Dec-19</td>\n",
              "      <td>Teen</td>\n",
              "      <td>https://www.imocci.com/wp-content/uploads/2018...</td>\n",
              "      <td>False</td>\n",
              "      <td>True</td>\n",
              "      <td>False</td>\n",
              "      <td>6/15/2021 20:19</td>\n",
              "    </tr>\n",
              "    <tr>\n",
              "      <th>6</th>\n",
              "      <td>unlimited 4G data prank free app</td>\n",
              "      <td>getfreedata.superfatiza.unlimitedjiodataprank</td>\n",
              "      <td>Libraries &amp; Demo</td>\n",
              "      <td>4.5</td>\n",
              "      <td>12.0</td>\n",
              "      <td>1,000+</td>\n",
              "      <td>1000.0</td>\n",
              "      <td>2567</td>\n",
              "      <td>True</td>\n",
              "      <td>0.0</td>\n",
              "      <td>...</td>\n",
              "      <td>NaN</td>\n",
              "      <td>aitomgharfatimezzahra@gmail.com</td>\n",
              "      <td>23-Sep-19</td>\n",
              "      <td>27-Sep-19</td>\n",
              "      <td>Everyone</td>\n",
              "      <td>https://sites.google.com/view/unlimited4gdatap...</td>\n",
              "      <td>True</td>\n",
              "      <td>False</td>\n",
              "      <td>False</td>\n",
              "      <td>6/15/2021 20:19</td>\n",
              "    </tr>\n",
              "    <tr>\n",
              "      <th>7</th>\n",
              "      <td>The Everyday Calendar</td>\n",
              "      <td>com.mozaix.simoneboard</td>\n",
              "      <td>Lifestyle</td>\n",
              "      <td>2.0</td>\n",
              "      <td>39.0</td>\n",
              "      <td>500+</td>\n",
              "      <td>500.0</td>\n",
              "      <td>702</td>\n",
              "      <td>True</td>\n",
              "      <td>0.0</td>\n",
              "      <td>...</td>\n",
              "      <td>NaN</td>\n",
              "      <td>elementuser03@gmail.com</td>\n",
              "      <td>21-Jun-19</td>\n",
              "      <td>21-Jun-19</td>\n",
              "      <td>Everyone</td>\n",
              "      <td>https://www.freeprivacypolicy.com/privacy/view...</td>\n",
              "      <td>False</td>\n",
              "      <td>False</td>\n",
              "      <td>False</td>\n",
              "      <td>6/15/2021 20:19</td>\n",
              "    </tr>\n",
              "    <tr>\n",
              "      <th>8</th>\n",
              "      <td>WhatsOpen</td>\n",
              "      <td>com.whatsopen.app</td>\n",
              "      <td>Communication</td>\n",
              "      <td>0.0</td>\n",
              "      <td>0.0</td>\n",
              "      <td>10+</td>\n",
              "      <td>10.0</td>\n",
              "      <td>18</td>\n",
              "      <td>True</td>\n",
              "      <td>0.0</td>\n",
              "      <td>...</td>\n",
              "      <td>http://yilvermolinah.com</td>\n",
              "      <td>yilver.mh1996@gmail.com</td>\n",
              "      <td>NaN</td>\n",
              "      <td>7-Dec-18</td>\n",
              "      <td>Teen</td>\n",
              "      <td>http://elcafedelamanana.yilvermolinah.com/poli...</td>\n",
              "      <td>False</td>\n",
              "      <td>False</td>\n",
              "      <td>False</td>\n",
              "      <td>6/15/2021 20:19</td>\n",
              "    </tr>\n",
              "    <tr>\n",
              "      <th>9</th>\n",
              "      <td>Neon 3d Iron Tech Keyboard Theme</td>\n",
              "      <td>com.ikeyboard.theme.neon_3d.iron.tech</td>\n",
              "      <td>Personalization</td>\n",
              "      <td>4.7</td>\n",
              "      <td>820.0</td>\n",
              "      <td>50,000+</td>\n",
              "      <td>50000.0</td>\n",
              "      <td>62433</td>\n",
              "      <td>True</td>\n",
              "      <td>0.0</td>\n",
              "      <td>...</td>\n",
              "      <td>https://trendyteme888-31139.web.app</td>\n",
              "      <td>trendyteme.888@gmail.com</td>\n",
              "      <td>22-Sep-19</td>\n",
              "      <td>7-Oct-20</td>\n",
              "      <td>Everyone</td>\n",
              "      <td>http://bit.ly/EmojiThemePro</td>\n",
              "      <td>True</td>\n",
              "      <td>False</td>\n",
              "      <td>False</td>\n",
              "      <td>6/15/2021 20:19</td>\n",
              "    </tr>\n",
              "  </tbody>\n",
              "</table>\n",
              "<p>10 rows × 24 columns</p>\n",
              "</div>\n",
              "      <button class=\"colab-df-convert\" onclick=\"convertToInteractive('df-598a04b3-891f-4cb3-b49b-5ba8e0634137')\"\n",
              "              title=\"Convert this dataframe to an interactive table.\"\n",
              "              style=\"display:none;\">\n",
              "        \n",
              "  <svg xmlns=\"http://www.w3.org/2000/svg\" height=\"24px\"viewBox=\"0 0 24 24\"\n",
              "       width=\"24px\">\n",
              "    <path d=\"M0 0h24v24H0V0z\" fill=\"none\"/>\n",
              "    <path d=\"M18.56 5.44l.94 2.06.94-2.06 2.06-.94-2.06-.94-.94-2.06-.94 2.06-2.06.94zm-11 1L8.5 8.5l.94-2.06 2.06-.94-2.06-.94L8.5 2.5l-.94 2.06-2.06.94zm10 10l.94 2.06.94-2.06 2.06-.94-2.06-.94-.94-2.06-.94 2.06-2.06.94z\"/><path d=\"M17.41 7.96l-1.37-1.37c-.4-.4-.92-.59-1.43-.59-.52 0-1.04.2-1.43.59L10.3 9.45l-7.72 7.72c-.78.78-.78 2.05 0 2.83L4 21.41c.39.39.9.59 1.41.59.51 0 1.02-.2 1.41-.59l7.78-7.78 2.81-2.81c.8-.78.8-2.07 0-2.86zM5.41 20L4 18.59l7.72-7.72 1.47 1.35L5.41 20z\"/>\n",
              "  </svg>\n",
              "      </button>\n",
              "      \n",
              "  <style>\n",
              "    .colab-df-container {\n",
              "      display:flex;\n",
              "      flex-wrap:wrap;\n",
              "      gap: 12px;\n",
              "    }\n",
              "\n",
              "    .colab-df-convert {\n",
              "      background-color: #E8F0FE;\n",
              "      border: none;\n",
              "      border-radius: 50%;\n",
              "      cursor: pointer;\n",
              "      display: none;\n",
              "      fill: #1967D2;\n",
              "      height: 32px;\n",
              "      padding: 0 0 0 0;\n",
              "      width: 32px;\n",
              "    }\n",
              "\n",
              "    .colab-df-convert:hover {\n",
              "      background-color: #E2EBFA;\n",
              "      box-shadow: 0px 1px 2px rgba(60, 64, 67, 0.3), 0px 1px 3px 1px rgba(60, 64, 67, 0.15);\n",
              "      fill: #174EA6;\n",
              "    }\n",
              "\n",
              "    [theme=dark] .colab-df-convert {\n",
              "      background-color: #3B4455;\n",
              "      fill: #D2E3FC;\n",
              "    }\n",
              "\n",
              "    [theme=dark] .colab-df-convert:hover {\n",
              "      background-color: #434B5C;\n",
              "      box-shadow: 0px 1px 3px 1px rgba(0, 0, 0, 0.15);\n",
              "      filter: drop-shadow(0px 1px 2px rgba(0, 0, 0, 0.3));\n",
              "      fill: #FFFFFF;\n",
              "    }\n",
              "  </style>\n",
              "\n",
              "      <script>\n",
              "        const buttonEl =\n",
              "          document.querySelector('#df-598a04b3-891f-4cb3-b49b-5ba8e0634137 button.colab-df-convert');\n",
              "        buttonEl.style.display =\n",
              "          google.colab.kernel.accessAllowed ? 'block' : 'none';\n",
              "\n",
              "        async function convertToInteractive(key) {\n",
              "          const element = document.querySelector('#df-598a04b3-891f-4cb3-b49b-5ba8e0634137');\n",
              "          const dataTable =\n",
              "            await google.colab.kernel.invokeFunction('convertToInteractive',\n",
              "                                                     [key], {});\n",
              "          if (!dataTable) return;\n",
              "\n",
              "          const docLinkHtml = 'Like what you see? Visit the ' +\n",
              "            '<a target=\"_blank\" href=https://colab.research.google.com/notebooks/data_table.ipynb>data table notebook</a>'\n",
              "            + ' to learn more about interactive tables.';\n",
              "          element.innerHTML = '';\n",
              "          dataTable['output_type'] = 'display_data';\n",
              "          await google.colab.output.renderOutput(dataTable, element);\n",
              "          const docLink = document.createElement('div');\n",
              "          docLink.innerHTML = docLinkHtml;\n",
              "          element.appendChild(docLink);\n",
              "        }\n",
              "      </script>\n",
              "    </div>\n",
              "  </div>\n",
              "  "
            ]
          },
          "metadata": {},
          "execution_count": 93
        }
      ],
      "source": [
        "#printing the top 10 rows\n",
        "data.head(10)"
      ]
    },
    {
      "cell_type": "code",
      "execution_count": null,
      "metadata": {
        "colab": {
          "base_uri": "https://localhost:8080/",
          "height": 918
        },
        "id": "VcujnuxPvP2l",
        "outputId": "448a03c3-8a37-4e29-b394-3fddc30ccd0e"
      },
      "outputs": [
        {
          "output_type": "execute_result",
          "data": {
            "text/plain": [
              "                                                    0  \\\n",
              "App_Name                                      Gakondo   \n",
              "App_Id                            com.ishakwe.gakondo   \n",
              "Category                                    Adventure   \n",
              "Rating                                            0.0   \n",
              "Rating_Count                                      0.0   \n",
              "Installs                                          10+   \n",
              "Minimum_Installs                                 10.0   \n",
              "Maximum_Installs                                   15   \n",
              "Free                                             True   \n",
              "Price                                             0.0   \n",
              "Currency                                          USD   \n",
              "Size                                              10M   \n",
              "Minimum_Android                            7.1 and up   \n",
              "Developer_Id        Jean Confident Irénée NIYIZIBYOSE   \n",
              "Developer_Website         https://beniyizibyose.tk/#/   \n",
              "Developer_Email                jean21101999@gmail.com   \n",
              "Released                                    26-Feb-20   \n",
              "Last_Updated                                26-Feb-20   \n",
              "Content_Rating                               Everyone   \n",
              "Privacy_Policy     https://beniyizibyose.tk/projects/   \n",
              "Ad_Supported                                    False   \n",
              "In_App_Purchases                                False   \n",
              "Editors_Choice                                  False   \n",
              "Scraped_Time                          6/15/2021 20:19   \n",
              "\n",
              "                                                                   1  \\\n",
              "App_Name                                         Ampere Battery Info   \n",
              "App_Id                                    com.webserveis.batteryinfo   \n",
              "Category                                                       Tools   \n",
              "Rating                                                           4.4   \n",
              "Rating_Count                                                    64.0   \n",
              "Installs                                                      5,000+   \n",
              "Minimum_Installs                                              5000.0   \n",
              "Maximum_Installs                                                7662   \n",
              "Free                                                            True   \n",
              "Price                                                            0.0   \n",
              "Currency                                                         USD   \n",
              "Size                                                            2.9M   \n",
              "Minimum_Android                                           5.0 and up   \n",
              "Developer_Id                                              Webserveis   \n",
              "Developer_Website                    https://webserveis.netlify.app/   \n",
              "Developer_Email                                 webserveis@gmail.com   \n",
              "Released                                                   21-May-20   \n",
              "Last_Updated                                                6-May-21   \n",
              "Content_Rating                                              Everyone   \n",
              "Privacy_Policy     https://dev4phones.wordpress.com/licencia-de-uso/   \n",
              "Ad_Supported                                                    True   \n",
              "In_App_Purchases                                               False   \n",
              "Editors_Choice                                                 False   \n",
              "Scraped_Time                                         6/15/2021 20:19   \n",
              "\n",
              "                                                                   2  \\\n",
              "App_Name                                                      Vibook   \n",
              "App_Id                                          com.doantiepvien.crm   \n",
              "Category                                                Productivity   \n",
              "Rating                                                           0.0   \n",
              "Rating_Count                                                     0.0   \n",
              "Installs                                                         50+   \n",
              "Minimum_Installs                                                50.0   \n",
              "Maximum_Installs                                                  58   \n",
              "Free                                                            True   \n",
              "Price                                                            0.0   \n",
              "Currency                                                         USD   \n",
              "Size                                                            3.7M   \n",
              "Minimum_Android                                         4.0.3 and up   \n",
              "Developer_Id                                              Cabin Crew   \n",
              "Developer_Website                                                NaN   \n",
              "Developer_Email                                  vnacrewit@gmail.com   \n",
              "Released                                                    9-Aug-19   \n",
              "Last_Updated                                               19-Aug-19   \n",
              "Content_Rating                                              Everyone   \n",
              "Privacy_Policy     https://www.vietnamairlines.com/vn/en/terms-an...   \n",
              "Ad_Supported                                                   False   \n",
              "In_App_Purchases                                               False   \n",
              "Editors_Choice                                                 False   \n",
              "Scraped_Time                                         6/15/2021 20:19   \n",
              "\n",
              "                                                                   3  \\\n",
              "App_Name           Smart City Trichy Public Service Vehicles 17UC...   \n",
              "App_Id                                       cst.stJoseph.ug17ucs548   \n",
              "Category                                               Communication   \n",
              "Rating                                                           5.0   \n",
              "Rating_Count                                                     5.0   \n",
              "Installs                                                         10+   \n",
              "Minimum_Installs                                                10.0   \n",
              "Maximum_Installs                                                  19   \n",
              "Free                                                            True   \n",
              "Price                                                            0.0   \n",
              "Currency                                                         USD   \n",
              "Size                                                            1.8M   \n",
              "Minimum_Android                                         4.0.3 and up   \n",
              "Developer_Id                                     Climate Smart Tech2   \n",
              "Developer_Website                   http://www.climatesmarttech.com/   \n",
              "Developer_Email                          climatesmarttech2@gmail.com   \n",
              "Released                                                   10-Sep-18   \n",
              "Last_Updated                                               13-Oct-18   \n",
              "Content_Rating                                              Everyone   \n",
              "Privacy_Policy                                                   NaN   \n",
              "Ad_Supported                                                    True   \n",
              "In_App_Purchases                                               False   \n",
              "Editors_Choice                                                 False   \n",
              "Scraped_Time                                         6/15/2021 20:19   \n",
              "\n",
              "                                             4  \n",
              "App_Name                               GROW.me  \n",
              "App_Id                    com.horodyski.grower  \n",
              "Category                                 Tools  \n",
              "Rating                                     0.0  \n",
              "Rating_Count                               0.0  \n",
              "Installs                                  100+  \n",
              "Minimum_Installs                         100.0  \n",
              "Maximum_Installs                           478  \n",
              "Free                                      True  \n",
              "Price                                      0.0  \n",
              "Currency                                   USD  \n",
              "Size                                      6.2M  \n",
              "Minimum_Android                     4.1 and up  \n",
              "Developer_Id             Rafal Milek-Horodyski  \n",
              "Developer_Website  http://www.horodyski.com.pl  \n",
              "Developer_Email      rmilekhorodyski@gmail.com  \n",
              "Released                             21-Feb-20  \n",
              "Last_Updated                         12-Nov-18  \n",
              "Content_Rating                        Everyone  \n",
              "Privacy_Policy     http://www.horodyski.com.pl  \n",
              "Ad_Supported                             False  \n",
              "In_App_Purchases                         False  \n",
              "Editors_Choice                           False  \n",
              "Scraped_Time                   6/15/2021 20:19  "
            ],
            "text/html": [
              "\n",
              "  <div id=\"df-51f3a0d1-97c6-434b-b114-546a7a3c0e2a\">\n",
              "    <div class=\"colab-df-container\">\n",
              "      <div>\n",
              "<style scoped>\n",
              "    .dataframe tbody tr th:only-of-type {\n",
              "        vertical-align: middle;\n",
              "    }\n",
              "\n",
              "    .dataframe tbody tr th {\n",
              "        vertical-align: top;\n",
              "    }\n",
              "\n",
              "    .dataframe thead th {\n",
              "        text-align: right;\n",
              "    }\n",
              "</style>\n",
              "<table border=\"1\" class=\"dataframe\">\n",
              "  <thead>\n",
              "    <tr style=\"text-align: right;\">\n",
              "      <th></th>\n",
              "      <th>0</th>\n",
              "      <th>1</th>\n",
              "      <th>2</th>\n",
              "      <th>3</th>\n",
              "      <th>4</th>\n",
              "    </tr>\n",
              "  </thead>\n",
              "  <tbody>\n",
              "    <tr>\n",
              "      <th>App_Name</th>\n",
              "      <td>Gakondo</td>\n",
              "      <td>Ampere Battery Info</td>\n",
              "      <td>Vibook</td>\n",
              "      <td>Smart City Trichy Public Service Vehicles 17UC...</td>\n",
              "      <td>GROW.me</td>\n",
              "    </tr>\n",
              "    <tr>\n",
              "      <th>App_Id</th>\n",
              "      <td>com.ishakwe.gakondo</td>\n",
              "      <td>com.webserveis.batteryinfo</td>\n",
              "      <td>com.doantiepvien.crm</td>\n",
              "      <td>cst.stJoseph.ug17ucs548</td>\n",
              "      <td>com.horodyski.grower</td>\n",
              "    </tr>\n",
              "    <tr>\n",
              "      <th>Category</th>\n",
              "      <td>Adventure</td>\n",
              "      <td>Tools</td>\n",
              "      <td>Productivity</td>\n",
              "      <td>Communication</td>\n",
              "      <td>Tools</td>\n",
              "    </tr>\n",
              "    <tr>\n",
              "      <th>Rating</th>\n",
              "      <td>0.0</td>\n",
              "      <td>4.4</td>\n",
              "      <td>0.0</td>\n",
              "      <td>5.0</td>\n",
              "      <td>0.0</td>\n",
              "    </tr>\n",
              "    <tr>\n",
              "      <th>Rating_Count</th>\n",
              "      <td>0.0</td>\n",
              "      <td>64.0</td>\n",
              "      <td>0.0</td>\n",
              "      <td>5.0</td>\n",
              "      <td>0.0</td>\n",
              "    </tr>\n",
              "    <tr>\n",
              "      <th>Installs</th>\n",
              "      <td>10+</td>\n",
              "      <td>5,000+</td>\n",
              "      <td>50+</td>\n",
              "      <td>10+</td>\n",
              "      <td>100+</td>\n",
              "    </tr>\n",
              "    <tr>\n",
              "      <th>Minimum_Installs</th>\n",
              "      <td>10.0</td>\n",
              "      <td>5000.0</td>\n",
              "      <td>50.0</td>\n",
              "      <td>10.0</td>\n",
              "      <td>100.0</td>\n",
              "    </tr>\n",
              "    <tr>\n",
              "      <th>Maximum_Installs</th>\n",
              "      <td>15</td>\n",
              "      <td>7662</td>\n",
              "      <td>58</td>\n",
              "      <td>19</td>\n",
              "      <td>478</td>\n",
              "    </tr>\n",
              "    <tr>\n",
              "      <th>Free</th>\n",
              "      <td>True</td>\n",
              "      <td>True</td>\n",
              "      <td>True</td>\n",
              "      <td>True</td>\n",
              "      <td>True</td>\n",
              "    </tr>\n",
              "    <tr>\n",
              "      <th>Price</th>\n",
              "      <td>0.0</td>\n",
              "      <td>0.0</td>\n",
              "      <td>0.0</td>\n",
              "      <td>0.0</td>\n",
              "      <td>0.0</td>\n",
              "    </tr>\n",
              "    <tr>\n",
              "      <th>Currency</th>\n",
              "      <td>USD</td>\n",
              "      <td>USD</td>\n",
              "      <td>USD</td>\n",
              "      <td>USD</td>\n",
              "      <td>USD</td>\n",
              "    </tr>\n",
              "    <tr>\n",
              "      <th>Size</th>\n",
              "      <td>10M</td>\n",
              "      <td>2.9M</td>\n",
              "      <td>3.7M</td>\n",
              "      <td>1.8M</td>\n",
              "      <td>6.2M</td>\n",
              "    </tr>\n",
              "    <tr>\n",
              "      <th>Minimum_Android</th>\n",
              "      <td>7.1 and up</td>\n",
              "      <td>5.0 and up</td>\n",
              "      <td>4.0.3 and up</td>\n",
              "      <td>4.0.3 and up</td>\n",
              "      <td>4.1 and up</td>\n",
              "    </tr>\n",
              "    <tr>\n",
              "      <th>Developer_Id</th>\n",
              "      <td>Jean Confident Irénée NIYIZIBYOSE</td>\n",
              "      <td>Webserveis</td>\n",
              "      <td>Cabin Crew</td>\n",
              "      <td>Climate Smart Tech2</td>\n",
              "      <td>Rafal Milek-Horodyski</td>\n",
              "    </tr>\n",
              "    <tr>\n",
              "      <th>Developer_Website</th>\n",
              "      <td>https://beniyizibyose.tk/#/</td>\n",
              "      <td>https://webserveis.netlify.app/</td>\n",
              "      <td>NaN</td>\n",
              "      <td>http://www.climatesmarttech.com/</td>\n",
              "      <td>http://www.horodyski.com.pl</td>\n",
              "    </tr>\n",
              "    <tr>\n",
              "      <th>Developer_Email</th>\n",
              "      <td>jean21101999@gmail.com</td>\n",
              "      <td>webserveis@gmail.com</td>\n",
              "      <td>vnacrewit@gmail.com</td>\n",
              "      <td>climatesmarttech2@gmail.com</td>\n",
              "      <td>rmilekhorodyski@gmail.com</td>\n",
              "    </tr>\n",
              "    <tr>\n",
              "      <th>Released</th>\n",
              "      <td>26-Feb-20</td>\n",
              "      <td>21-May-20</td>\n",
              "      <td>9-Aug-19</td>\n",
              "      <td>10-Sep-18</td>\n",
              "      <td>21-Feb-20</td>\n",
              "    </tr>\n",
              "    <tr>\n",
              "      <th>Last_Updated</th>\n",
              "      <td>26-Feb-20</td>\n",
              "      <td>6-May-21</td>\n",
              "      <td>19-Aug-19</td>\n",
              "      <td>13-Oct-18</td>\n",
              "      <td>12-Nov-18</td>\n",
              "    </tr>\n",
              "    <tr>\n",
              "      <th>Content_Rating</th>\n",
              "      <td>Everyone</td>\n",
              "      <td>Everyone</td>\n",
              "      <td>Everyone</td>\n",
              "      <td>Everyone</td>\n",
              "      <td>Everyone</td>\n",
              "    </tr>\n",
              "    <tr>\n",
              "      <th>Privacy_Policy</th>\n",
              "      <td>https://beniyizibyose.tk/projects/</td>\n",
              "      <td>https://dev4phones.wordpress.com/licencia-de-uso/</td>\n",
              "      <td>https://www.vietnamairlines.com/vn/en/terms-an...</td>\n",
              "      <td>NaN</td>\n",
              "      <td>http://www.horodyski.com.pl</td>\n",
              "    </tr>\n",
              "    <tr>\n",
              "      <th>Ad_Supported</th>\n",
              "      <td>False</td>\n",
              "      <td>True</td>\n",
              "      <td>False</td>\n",
              "      <td>True</td>\n",
              "      <td>False</td>\n",
              "    </tr>\n",
              "    <tr>\n",
              "      <th>In_App_Purchases</th>\n",
              "      <td>False</td>\n",
              "      <td>False</td>\n",
              "      <td>False</td>\n",
              "      <td>False</td>\n",
              "      <td>False</td>\n",
              "    </tr>\n",
              "    <tr>\n",
              "      <th>Editors_Choice</th>\n",
              "      <td>False</td>\n",
              "      <td>False</td>\n",
              "      <td>False</td>\n",
              "      <td>False</td>\n",
              "      <td>False</td>\n",
              "    </tr>\n",
              "    <tr>\n",
              "      <th>Scraped_Time</th>\n",
              "      <td>6/15/2021 20:19</td>\n",
              "      <td>6/15/2021 20:19</td>\n",
              "      <td>6/15/2021 20:19</td>\n",
              "      <td>6/15/2021 20:19</td>\n",
              "      <td>6/15/2021 20:19</td>\n",
              "    </tr>\n",
              "  </tbody>\n",
              "</table>\n",
              "</div>\n",
              "      <button class=\"colab-df-convert\" onclick=\"convertToInteractive('df-51f3a0d1-97c6-434b-b114-546a7a3c0e2a')\"\n",
              "              title=\"Convert this dataframe to an interactive table.\"\n",
              "              style=\"display:none;\">\n",
              "        \n",
              "  <svg xmlns=\"http://www.w3.org/2000/svg\" height=\"24px\"viewBox=\"0 0 24 24\"\n",
              "       width=\"24px\">\n",
              "    <path d=\"M0 0h24v24H0V0z\" fill=\"none\"/>\n",
              "    <path d=\"M18.56 5.44l.94 2.06.94-2.06 2.06-.94-2.06-.94-.94-2.06-.94 2.06-2.06.94zm-11 1L8.5 8.5l.94-2.06 2.06-.94-2.06-.94L8.5 2.5l-.94 2.06-2.06.94zm10 10l.94 2.06.94-2.06 2.06-.94-2.06-.94-.94-2.06-.94 2.06-2.06.94z\"/><path d=\"M17.41 7.96l-1.37-1.37c-.4-.4-.92-.59-1.43-.59-.52 0-1.04.2-1.43.59L10.3 9.45l-7.72 7.72c-.78.78-.78 2.05 0 2.83L4 21.41c.39.39.9.59 1.41.59.51 0 1.02-.2 1.41-.59l7.78-7.78 2.81-2.81c.8-.78.8-2.07 0-2.86zM5.41 20L4 18.59l7.72-7.72 1.47 1.35L5.41 20z\"/>\n",
              "  </svg>\n",
              "      </button>\n",
              "      \n",
              "  <style>\n",
              "    .colab-df-container {\n",
              "      display:flex;\n",
              "      flex-wrap:wrap;\n",
              "      gap: 12px;\n",
              "    }\n",
              "\n",
              "    .colab-df-convert {\n",
              "      background-color: #E8F0FE;\n",
              "      border: none;\n",
              "      border-radius: 50%;\n",
              "      cursor: pointer;\n",
              "      display: none;\n",
              "      fill: #1967D2;\n",
              "      height: 32px;\n",
              "      padding: 0 0 0 0;\n",
              "      width: 32px;\n",
              "    }\n",
              "\n",
              "    .colab-df-convert:hover {\n",
              "      background-color: #E2EBFA;\n",
              "      box-shadow: 0px 1px 2px rgba(60, 64, 67, 0.3), 0px 1px 3px 1px rgba(60, 64, 67, 0.15);\n",
              "      fill: #174EA6;\n",
              "    }\n",
              "\n",
              "    [theme=dark] .colab-df-convert {\n",
              "      background-color: #3B4455;\n",
              "      fill: #D2E3FC;\n",
              "    }\n",
              "\n",
              "    [theme=dark] .colab-df-convert:hover {\n",
              "      background-color: #434B5C;\n",
              "      box-shadow: 0px 1px 3px 1px rgba(0, 0, 0, 0.15);\n",
              "      filter: drop-shadow(0px 1px 2px rgba(0, 0, 0, 0.3));\n",
              "      fill: #FFFFFF;\n",
              "    }\n",
              "  </style>\n",
              "\n",
              "      <script>\n",
              "        const buttonEl =\n",
              "          document.querySelector('#df-51f3a0d1-97c6-434b-b114-546a7a3c0e2a button.colab-df-convert');\n",
              "        buttonEl.style.display =\n",
              "          google.colab.kernel.accessAllowed ? 'block' : 'none';\n",
              "\n",
              "        async function convertToInteractive(key) {\n",
              "          const element = document.querySelector('#df-51f3a0d1-97c6-434b-b114-546a7a3c0e2a');\n",
              "          const dataTable =\n",
              "            await google.colab.kernel.invokeFunction('convertToInteractive',\n",
              "                                                     [key], {});\n",
              "          if (!dataTable) return;\n",
              "\n",
              "          const docLinkHtml = 'Like what you see? Visit the ' +\n",
              "            '<a target=\"_blank\" href=https://colab.research.google.com/notebooks/data_table.ipynb>data table notebook</a>'\n",
              "            + ' to learn more about interactive tables.';\n",
              "          element.innerHTML = '';\n",
              "          dataTable['output_type'] = 'display_data';\n",
              "          await google.colab.output.renderOutput(dataTable, element);\n",
              "          const docLink = document.createElement('div');\n",
              "          docLink.innerHTML = docLinkHtml;\n",
              "          element.appendChild(docLink);\n",
              "        }\n",
              "      </script>\n",
              "    </div>\n",
              "  </div>\n",
              "  "
            ]
          },
          "metadata": {},
          "execution_count": 94
        }
      ],
      "source": [
        "data.head().T"
      ]
    },
    {
      "cell_type": "code",
      "execution_count": null,
      "metadata": {
        "colab": {
          "base_uri": "https://localhost:8080/"
        },
        "id": "_gDhgIOsvibH",
        "outputId": "c92ff3a2-f786-489d-a950-c3f8543e7ce5"
      },
      "outputs": [
        {
          "output_type": "execute_result",
          "data": {
            "text/plain": [
              "<bound method DataFrame.info of                                                   App_Name  \\\n",
              "0                                                  Gakondo   \n",
              "1                                      Ampere Battery Info   \n",
              "2                                                   Vibook   \n",
              "3        Smart City Trichy Public Service Vehicles 17UC...   \n",
              "4                                                  GROW.me   \n",
              "...                                                    ...   \n",
              "1048570                          MAFAB - Filmek adatbázisa   \n",
              "1048571                     Tweecha ThemeP:TheRollingPchan   \n",
              "1048572                                     Space Survival   \n",
              "1048573                                   Qarib Shop Owner   \n",
              "1048574                Radio VOA Hausa CHINESE Free Online   \n",
              "\n",
              "                                                    App_Id       Category  \\\n",
              "0                                      com.ishakwe.gakondo      Adventure   \n",
              "1                               com.webserveis.batteryinfo          Tools   \n",
              "2                                     com.doantiepvien.crm   Productivity   \n",
              "3                                  cst.stJoseph.ug17ucs548  Communication   \n",
              "4                                     com.horodyski.grower          Tools   \n",
              "...                                                    ...            ...   \n",
              "1048570               com.mafab.com.mafab_filmekadatbazisa  Entertainment   \n",
              "1048571  net.sinproject.android.tweecha.theme.pichan.ro...         Social   \n",
              "1048572                              com.dopaminit.sodapop         Arcade   \n",
              "1048573                             com.app.qaribshopowner   Food & Drink   \n",
              "1048574                  com.jlstudio.RadioVOAHausaChinese  Music & Audio   \n",
              "\n",
              "         Rating  Rating_Count Installs  Minimum_Installs  Maximum_Installs  \\\n",
              "0           0.0           0.0      10+              10.0                15   \n",
              "1           4.4          64.0   5,000+            5000.0              7662   \n",
              "2           0.0           0.0      50+              50.0                58   \n",
              "3           5.0           5.0      10+              10.0                19   \n",
              "4           0.0           0.0     100+             100.0               478   \n",
              "...         ...           ...      ...               ...               ...   \n",
              "1048570     3.4          61.0   5,000+            5000.0              9851   \n",
              "1048571     0.0           0.0      10+              10.0                15   \n",
              "1048572     4.4          47.0  10,000+           10000.0             22742   \n",
              "1048573     0.0           0.0       5+               5.0                 9   \n",
              "1048574     4.9          56.0   1,000+            1000.0              1933   \n",
              "\n",
              "          Free  Price  ...                 Developer_Website  \\\n",
              "0         True   0.00  ...       https://beniyizibyose.tk/#/   \n",
              "1         True   0.00  ...   https://webserveis.netlify.app/   \n",
              "2         True   0.00  ...                               NaN   \n",
              "3         True   0.00  ...  http://www.climatesmarttech.com/   \n",
              "4         True   0.00  ...       http://www.horodyski.com.pl   \n",
              "...        ...    ...  ...                               ...   \n",
              "1048570   True   0.00  ...              https://www.mafab.hu   \n",
              "1048571  False   1.49  ...             http://sinproject.net   \n",
              "1048572   True   0.00  ...                               NaN   \n",
              "1048573   True   0.00  ...                               NaN   \n",
              "1048574   True   0.00  ...                               NaN   \n",
              "\n",
              "                       Developer_Email   Released Last_Updated Content_Rating  \\\n",
              "0               jean21101999@gmail.com  26-Feb-20    26-Feb-20       Everyone   \n",
              "1                 webserveis@gmail.com  21-May-20     6-May-21       Everyone   \n",
              "2                  vnacrewit@gmail.com   9-Aug-19    19-Aug-19       Everyone   \n",
              "3          climatesmarttech2@gmail.com  10-Sep-18    13-Oct-18       Everyone   \n",
              "4            rmilekhorodyski@gmail.com  21-Feb-20    12-Nov-18       Everyone   \n",
              "...                                ...        ...          ...            ...   \n",
              "1048570                  soos@mafab.hu  17-Aug-15    10-May-19       Everyone   \n",
              "1048571            info@sinproject.net  12-Nov-13    19-Apr-16           Teen   \n",
              "1048572            c8h11o2n1@gmail.com  19-Dec-18     2-Jan-19       Everyone   \n",
              "1048573  Coldbloodedpredator@gmail.com   8-Jan-20    17-Jan-20       Everyone   \n",
              "1048574         jorgeluisnba@gmail.com  22-Nov-19    22-Nov-19           Teen   \n",
              "\n",
              "                                            Privacy_Policy Ad_Supported  \\\n",
              "0                       https://beniyizibyose.tk/projects/        False   \n",
              "1        https://dev4phones.wordpress.com/licencia-de-uso/         True   \n",
              "2        https://www.vietnamairlines.com/vn/en/terms-an...        False   \n",
              "3                                                      NaN         True   \n",
              "4                              http://www.horodyski.com.pl        False   \n",
              "...                                                    ...          ...   \n",
              "1048570                                                NaN         True   \n",
              "1048571                                                NaN        False   \n",
              "1048572  https://docs.google.com/document/d/1JG2ujKR2Rq...         True   \n",
              "1048573   https://appcdn.media/privacy/?app=QaribShopOwner        False   \n",
              "1048574  https://jlstudioapps.blogspot.com/p/politica-d...         True   \n",
              "\n",
              "        In_App_Purchases Editors_Choice     Scraped_Time  \n",
              "0                  False          False  6/15/2021 20:19  \n",
              "1                  False          False  6/15/2021 20:19  \n",
              "2                  False          False  6/15/2021 20:19  \n",
              "3                  False          False  6/15/2021 20:19  \n",
              "4                  False          False  6/15/2021 20:19  \n",
              "...                  ...            ...              ...  \n",
              "1048570            False          False  6/16/2021 13:05  \n",
              "1048571            False          False  6/16/2021 13:05  \n",
              "1048572             True          False  6/16/2021 13:05  \n",
              "1048573            False          False  6/16/2021 13:05  \n",
              "1048574            False          False  6/16/2021 13:05  \n",
              "\n",
              "[1048575 rows x 24 columns]>"
            ]
          },
          "metadata": {},
          "execution_count": 95
        }
      ],
      "source": [
        "# check summary \n",
        "data.info"
      ]
    },
    {
      "cell_type": "code",
      "source": [
        "data.describe()"
      ],
      "metadata": {
        "colab": {
          "base_uri": "https://localhost:8080/",
          "height": 300
        },
        "id": "eq3A5Ml2_VAl",
        "outputId": "1067fd7a-53bd-446d-aced-85e02ba641ff"
      },
      "execution_count": null,
      "outputs": [
        {
          "output_type": "execute_result",
          "data": {
            "text/plain": [
              "             Rating  Rating_Count  Minimum_Installs  Maximum_Installs  \\\n",
              "count  1.038265e+06  1.038265e+06      1.048529e+06      1.048575e+06   \n",
              "mean   2.205133e+00  2.937382e+03      1.761995e+05      3.044571e+05   \n",
              "std    2.106423e+00  2.559674e+05      1.325964e+07      2.046633e+07   \n",
              "min    0.000000e+00  0.000000e+00      0.000000e+00      0.000000e+00   \n",
              "25%    0.000000e+00  0.000000e+00      5.000000e+01      8.400000e+01   \n",
              "50%    3.000000e+00  6.000000e+00      5.000000e+02      6.950000e+02   \n",
              "75%    4.300000e+00  4.200000e+01      5.000000e+03      7.361000e+03   \n",
              "max    5.000000e+00  1.385576e+08      5.000000e+09      9.766231e+09   \n",
              "\n",
              "              Price  \n",
              "count  1.048575e+06  \n",
              "mean   1.019689e-01  \n",
              "std    2.538256e+00  \n",
              "min    0.000000e+00  \n",
              "25%    0.000000e+00  \n",
              "50%    0.000000e+00  \n",
              "75%    0.000000e+00  \n",
              "max    4.000000e+02  "
            ],
            "text/html": [
              "\n",
              "  <div id=\"df-c5bc79b8-97cc-4520-b130-c1dadf951777\">\n",
              "    <div class=\"colab-df-container\">\n",
              "      <div>\n",
              "<style scoped>\n",
              "    .dataframe tbody tr th:only-of-type {\n",
              "        vertical-align: middle;\n",
              "    }\n",
              "\n",
              "    .dataframe tbody tr th {\n",
              "        vertical-align: top;\n",
              "    }\n",
              "\n",
              "    .dataframe thead th {\n",
              "        text-align: right;\n",
              "    }\n",
              "</style>\n",
              "<table border=\"1\" class=\"dataframe\">\n",
              "  <thead>\n",
              "    <tr style=\"text-align: right;\">\n",
              "      <th></th>\n",
              "      <th>Rating</th>\n",
              "      <th>Rating_Count</th>\n",
              "      <th>Minimum_Installs</th>\n",
              "      <th>Maximum_Installs</th>\n",
              "      <th>Price</th>\n",
              "    </tr>\n",
              "  </thead>\n",
              "  <tbody>\n",
              "    <tr>\n",
              "      <th>count</th>\n",
              "      <td>1.038265e+06</td>\n",
              "      <td>1.038265e+06</td>\n",
              "      <td>1.048529e+06</td>\n",
              "      <td>1.048575e+06</td>\n",
              "      <td>1.048575e+06</td>\n",
              "    </tr>\n",
              "    <tr>\n",
              "      <th>mean</th>\n",
              "      <td>2.205133e+00</td>\n",
              "      <td>2.937382e+03</td>\n",
              "      <td>1.761995e+05</td>\n",
              "      <td>3.044571e+05</td>\n",
              "      <td>1.019689e-01</td>\n",
              "    </tr>\n",
              "    <tr>\n",
              "      <th>std</th>\n",
              "      <td>2.106423e+00</td>\n",
              "      <td>2.559674e+05</td>\n",
              "      <td>1.325964e+07</td>\n",
              "      <td>2.046633e+07</td>\n",
              "      <td>2.538256e+00</td>\n",
              "    </tr>\n",
              "    <tr>\n",
              "      <th>min</th>\n",
              "      <td>0.000000e+00</td>\n",
              "      <td>0.000000e+00</td>\n",
              "      <td>0.000000e+00</td>\n",
              "      <td>0.000000e+00</td>\n",
              "      <td>0.000000e+00</td>\n",
              "    </tr>\n",
              "    <tr>\n",
              "      <th>25%</th>\n",
              "      <td>0.000000e+00</td>\n",
              "      <td>0.000000e+00</td>\n",
              "      <td>5.000000e+01</td>\n",
              "      <td>8.400000e+01</td>\n",
              "      <td>0.000000e+00</td>\n",
              "    </tr>\n",
              "    <tr>\n",
              "      <th>50%</th>\n",
              "      <td>3.000000e+00</td>\n",
              "      <td>6.000000e+00</td>\n",
              "      <td>5.000000e+02</td>\n",
              "      <td>6.950000e+02</td>\n",
              "      <td>0.000000e+00</td>\n",
              "    </tr>\n",
              "    <tr>\n",
              "      <th>75%</th>\n",
              "      <td>4.300000e+00</td>\n",
              "      <td>4.200000e+01</td>\n",
              "      <td>5.000000e+03</td>\n",
              "      <td>7.361000e+03</td>\n",
              "      <td>0.000000e+00</td>\n",
              "    </tr>\n",
              "    <tr>\n",
              "      <th>max</th>\n",
              "      <td>5.000000e+00</td>\n",
              "      <td>1.385576e+08</td>\n",
              "      <td>5.000000e+09</td>\n",
              "      <td>9.766231e+09</td>\n",
              "      <td>4.000000e+02</td>\n",
              "    </tr>\n",
              "  </tbody>\n",
              "</table>\n",
              "</div>\n",
              "      <button class=\"colab-df-convert\" onclick=\"convertToInteractive('df-c5bc79b8-97cc-4520-b130-c1dadf951777')\"\n",
              "              title=\"Convert this dataframe to an interactive table.\"\n",
              "              style=\"display:none;\">\n",
              "        \n",
              "  <svg xmlns=\"http://www.w3.org/2000/svg\" height=\"24px\"viewBox=\"0 0 24 24\"\n",
              "       width=\"24px\">\n",
              "    <path d=\"M0 0h24v24H0V0z\" fill=\"none\"/>\n",
              "    <path d=\"M18.56 5.44l.94 2.06.94-2.06 2.06-.94-2.06-.94-.94-2.06-.94 2.06-2.06.94zm-11 1L8.5 8.5l.94-2.06 2.06-.94-2.06-.94L8.5 2.5l-.94 2.06-2.06.94zm10 10l.94 2.06.94-2.06 2.06-.94-2.06-.94-.94-2.06-.94 2.06-2.06.94z\"/><path d=\"M17.41 7.96l-1.37-1.37c-.4-.4-.92-.59-1.43-.59-.52 0-1.04.2-1.43.59L10.3 9.45l-7.72 7.72c-.78.78-.78 2.05 0 2.83L4 21.41c.39.39.9.59 1.41.59.51 0 1.02-.2 1.41-.59l7.78-7.78 2.81-2.81c.8-.78.8-2.07 0-2.86zM5.41 20L4 18.59l7.72-7.72 1.47 1.35L5.41 20z\"/>\n",
              "  </svg>\n",
              "      </button>\n",
              "      \n",
              "  <style>\n",
              "    .colab-df-container {\n",
              "      display:flex;\n",
              "      flex-wrap:wrap;\n",
              "      gap: 12px;\n",
              "    }\n",
              "\n",
              "    .colab-df-convert {\n",
              "      background-color: #E8F0FE;\n",
              "      border: none;\n",
              "      border-radius: 50%;\n",
              "      cursor: pointer;\n",
              "      display: none;\n",
              "      fill: #1967D2;\n",
              "      height: 32px;\n",
              "      padding: 0 0 0 0;\n",
              "      width: 32px;\n",
              "    }\n",
              "\n",
              "    .colab-df-convert:hover {\n",
              "      background-color: #E2EBFA;\n",
              "      box-shadow: 0px 1px 2px rgba(60, 64, 67, 0.3), 0px 1px 3px 1px rgba(60, 64, 67, 0.15);\n",
              "      fill: #174EA6;\n",
              "    }\n",
              "\n",
              "    [theme=dark] .colab-df-convert {\n",
              "      background-color: #3B4455;\n",
              "      fill: #D2E3FC;\n",
              "    }\n",
              "\n",
              "    [theme=dark] .colab-df-convert:hover {\n",
              "      background-color: #434B5C;\n",
              "      box-shadow: 0px 1px 3px 1px rgba(0, 0, 0, 0.15);\n",
              "      filter: drop-shadow(0px 1px 2px rgba(0, 0, 0, 0.3));\n",
              "      fill: #FFFFFF;\n",
              "    }\n",
              "  </style>\n",
              "\n",
              "      <script>\n",
              "        const buttonEl =\n",
              "          document.querySelector('#df-c5bc79b8-97cc-4520-b130-c1dadf951777 button.colab-df-convert');\n",
              "        buttonEl.style.display =\n",
              "          google.colab.kernel.accessAllowed ? 'block' : 'none';\n",
              "\n",
              "        async function convertToInteractive(key) {\n",
              "          const element = document.querySelector('#df-c5bc79b8-97cc-4520-b130-c1dadf951777');\n",
              "          const dataTable =\n",
              "            await google.colab.kernel.invokeFunction('convertToInteractive',\n",
              "                                                     [key], {});\n",
              "          if (!dataTable) return;\n",
              "\n",
              "          const docLinkHtml = 'Like what you see? Visit the ' +\n",
              "            '<a target=\"_blank\" href=https://colab.research.google.com/notebooks/data_table.ipynb>data table notebook</a>'\n",
              "            + ' to learn more about interactive tables.';\n",
              "          element.innerHTML = '';\n",
              "          dataTable['output_type'] = 'display_data';\n",
              "          await google.colab.output.renderOutput(dataTable, element);\n",
              "          const docLink = document.createElement('div');\n",
              "          docLink.innerHTML = docLinkHtml;\n",
              "          element.appendChild(docLink);\n",
              "        }\n",
              "      </script>\n",
              "    </div>\n",
              "  </div>\n",
              "  "
            ]
          },
          "metadata": {},
          "execution_count": 96
        }
      ]
    },
    {
      "cell_type": "code",
      "execution_count": null,
      "metadata": {
        "colab": {
          "base_uri": "https://localhost:8080/"
        },
        "id": "3BoAE93JL5qd",
        "outputId": "92519818-014b-4c42-ccdd-03aa95b8711c"
      },
      "outputs": [
        {
          "output_type": "execute_result",
          "data": {
            "text/plain": [
              "(          Rating  Rating_Count  Minimum_Installs  Maximum_Installs      Price\n",
              " count  1038265.0     1038265.0      1.048529e+06      1.048575e+06  1048575.0\n",
              " mean         2.0        2937.0      1.762000e+05      3.044570e+05        0.0\n",
              " std          2.0      255967.0      1.325964e+07      2.046633e+07        3.0\n",
              " min          0.0           0.0      0.000000e+00      0.000000e+00        0.0\n",
              " 25%          0.0           0.0      5.000000e+01      8.400000e+01        0.0\n",
              " 50%          3.0           6.0      5.000000e+02      6.950000e+02        0.0\n",
              " 75%          4.0          42.0      5.000000e+03      7.361000e+03        0.0\n",
              " max          5.0   138557570.0      5.000000e+09      9.766231e+09      400.0,\n",
              " 0)"
            ]
          },
          "metadata": {},
          "execution_count": 97
        }
      ],
      "source": [
        "#To show desired no of values after decimal(It rounds a number to a specified number of digits)\n",
        "\n",
        "\n",
        "round(data.describe()),0"
      ]
    },
    {
      "cell_type": "code",
      "execution_count": null,
      "metadata": {
        "colab": {
          "base_uri": "https://localhost:8080/",
          "height": 206
        },
        "id": "E3ozCo5zwAua",
        "outputId": "31a3a4bd-e192-42fe-bdf4-7029ba06ff3b"
      },
      "outputs": [
        {
          "output_type": "execute_result",
          "data": {
            "text/plain": [
              "                      count      mean         std  min   25%    50%     75%  \\\n",
              "Rating            1038265.0       2.0         2.0  0.0   0.0    3.0     4.0   \n",
              "Rating_Count      1038265.0    2937.0    255967.0  0.0   0.0    6.0    42.0   \n",
              "Minimum_Installs  1048529.0  176200.0  13259642.0  0.0  50.0  500.0  5000.0   \n",
              "Maximum_Installs  1048575.0  304457.0  20466334.0  0.0  84.0  695.0  7361.0   \n",
              "Price             1048575.0       0.0         3.0  0.0   0.0    0.0     0.0   \n",
              "\n",
              "                           max  \n",
              "Rating            5.000000e+00  \n",
              "Rating_Count      1.385576e+08  \n",
              "Minimum_Installs  5.000000e+09  \n",
              "Maximum_Installs  9.766231e+09  \n",
              "Price             4.000000e+02  "
            ],
            "text/html": [
              "\n",
              "  <div id=\"df-f5109572-bea6-4ff8-beb0-ea29a8a42613\">\n",
              "    <div class=\"colab-df-container\">\n",
              "      <div>\n",
              "<style scoped>\n",
              "    .dataframe tbody tr th:only-of-type {\n",
              "        vertical-align: middle;\n",
              "    }\n",
              "\n",
              "    .dataframe tbody tr th {\n",
              "        vertical-align: top;\n",
              "    }\n",
              "\n",
              "    .dataframe thead th {\n",
              "        text-align: right;\n",
              "    }\n",
              "</style>\n",
              "<table border=\"1\" class=\"dataframe\">\n",
              "  <thead>\n",
              "    <tr style=\"text-align: right;\">\n",
              "      <th></th>\n",
              "      <th>count</th>\n",
              "      <th>mean</th>\n",
              "      <th>std</th>\n",
              "      <th>min</th>\n",
              "      <th>25%</th>\n",
              "      <th>50%</th>\n",
              "      <th>75%</th>\n",
              "      <th>max</th>\n",
              "    </tr>\n",
              "  </thead>\n",
              "  <tbody>\n",
              "    <tr>\n",
              "      <th>Rating</th>\n",
              "      <td>1038265.0</td>\n",
              "      <td>2.0</td>\n",
              "      <td>2.0</td>\n",
              "      <td>0.0</td>\n",
              "      <td>0.0</td>\n",
              "      <td>3.0</td>\n",
              "      <td>4.0</td>\n",
              "      <td>5.000000e+00</td>\n",
              "    </tr>\n",
              "    <tr>\n",
              "      <th>Rating_Count</th>\n",
              "      <td>1038265.0</td>\n",
              "      <td>2937.0</td>\n",
              "      <td>255967.0</td>\n",
              "      <td>0.0</td>\n",
              "      <td>0.0</td>\n",
              "      <td>6.0</td>\n",
              "      <td>42.0</td>\n",
              "      <td>1.385576e+08</td>\n",
              "    </tr>\n",
              "    <tr>\n",
              "      <th>Minimum_Installs</th>\n",
              "      <td>1048529.0</td>\n",
              "      <td>176200.0</td>\n",
              "      <td>13259642.0</td>\n",
              "      <td>0.0</td>\n",
              "      <td>50.0</td>\n",
              "      <td>500.0</td>\n",
              "      <td>5000.0</td>\n",
              "      <td>5.000000e+09</td>\n",
              "    </tr>\n",
              "    <tr>\n",
              "      <th>Maximum_Installs</th>\n",
              "      <td>1048575.0</td>\n",
              "      <td>304457.0</td>\n",
              "      <td>20466334.0</td>\n",
              "      <td>0.0</td>\n",
              "      <td>84.0</td>\n",
              "      <td>695.0</td>\n",
              "      <td>7361.0</td>\n",
              "      <td>9.766231e+09</td>\n",
              "    </tr>\n",
              "    <tr>\n",
              "      <th>Price</th>\n",
              "      <td>1048575.0</td>\n",
              "      <td>0.0</td>\n",
              "      <td>3.0</td>\n",
              "      <td>0.0</td>\n",
              "      <td>0.0</td>\n",
              "      <td>0.0</td>\n",
              "      <td>0.0</td>\n",
              "      <td>4.000000e+02</td>\n",
              "    </tr>\n",
              "  </tbody>\n",
              "</table>\n",
              "</div>\n",
              "      <button class=\"colab-df-convert\" onclick=\"convertToInteractive('df-f5109572-bea6-4ff8-beb0-ea29a8a42613')\"\n",
              "              title=\"Convert this dataframe to an interactive table.\"\n",
              "              style=\"display:none;\">\n",
              "        \n",
              "  <svg xmlns=\"http://www.w3.org/2000/svg\" height=\"24px\"viewBox=\"0 0 24 24\"\n",
              "       width=\"24px\">\n",
              "    <path d=\"M0 0h24v24H0V0z\" fill=\"none\"/>\n",
              "    <path d=\"M18.56 5.44l.94 2.06.94-2.06 2.06-.94-2.06-.94-.94-2.06-.94 2.06-2.06.94zm-11 1L8.5 8.5l.94-2.06 2.06-.94-2.06-.94L8.5 2.5l-.94 2.06-2.06.94zm10 10l.94 2.06.94-2.06 2.06-.94-2.06-.94-.94-2.06-.94 2.06-2.06.94z\"/><path d=\"M17.41 7.96l-1.37-1.37c-.4-.4-.92-.59-1.43-.59-.52 0-1.04.2-1.43.59L10.3 9.45l-7.72 7.72c-.78.78-.78 2.05 0 2.83L4 21.41c.39.39.9.59 1.41.59.51 0 1.02-.2 1.41-.59l7.78-7.78 2.81-2.81c.8-.78.8-2.07 0-2.86zM5.41 20L4 18.59l7.72-7.72 1.47 1.35L5.41 20z\"/>\n",
              "  </svg>\n",
              "      </button>\n",
              "      \n",
              "  <style>\n",
              "    .colab-df-container {\n",
              "      display:flex;\n",
              "      flex-wrap:wrap;\n",
              "      gap: 12px;\n",
              "    }\n",
              "\n",
              "    .colab-df-convert {\n",
              "      background-color: #E8F0FE;\n",
              "      border: none;\n",
              "      border-radius: 50%;\n",
              "      cursor: pointer;\n",
              "      display: none;\n",
              "      fill: #1967D2;\n",
              "      height: 32px;\n",
              "      padding: 0 0 0 0;\n",
              "      width: 32px;\n",
              "    }\n",
              "\n",
              "    .colab-df-convert:hover {\n",
              "      background-color: #E2EBFA;\n",
              "      box-shadow: 0px 1px 2px rgba(60, 64, 67, 0.3), 0px 1px 3px 1px rgba(60, 64, 67, 0.15);\n",
              "      fill: #174EA6;\n",
              "    }\n",
              "\n",
              "    [theme=dark] .colab-df-convert {\n",
              "      background-color: #3B4455;\n",
              "      fill: #D2E3FC;\n",
              "    }\n",
              "\n",
              "    [theme=dark] .colab-df-convert:hover {\n",
              "      background-color: #434B5C;\n",
              "      box-shadow: 0px 1px 3px 1px rgba(0, 0, 0, 0.15);\n",
              "      filter: drop-shadow(0px 1px 2px rgba(0, 0, 0, 0.3));\n",
              "      fill: #FFFFFF;\n",
              "    }\n",
              "  </style>\n",
              "\n",
              "      <script>\n",
              "        const buttonEl =\n",
              "          document.querySelector('#df-f5109572-bea6-4ff8-beb0-ea29a8a42613 button.colab-df-convert');\n",
              "        buttonEl.style.display =\n",
              "          google.colab.kernel.accessAllowed ? 'block' : 'none';\n",
              "\n",
              "        async function convertToInteractive(key) {\n",
              "          const element = document.querySelector('#df-f5109572-bea6-4ff8-beb0-ea29a8a42613');\n",
              "          const dataTable =\n",
              "            await google.colab.kernel.invokeFunction('convertToInteractive',\n",
              "                                                     [key], {});\n",
              "          if (!dataTable) return;\n",
              "\n",
              "          const docLinkHtml = 'Like what you see? Visit the ' +\n",
              "            '<a target=\"_blank\" href=https://colab.research.google.com/notebooks/data_table.ipynb>data table notebook</a>'\n",
              "            + ' to learn more about interactive tables.';\n",
              "          element.innerHTML = '';\n",
              "          dataTable['output_type'] = 'display_data';\n",
              "          await google.colab.output.renderOutput(dataTable, element);\n",
              "          const docLink = document.createElement('div');\n",
              "          docLink.innerHTML = docLinkHtml;\n",
              "          element.appendChild(docLink);\n",
              "        }\n",
              "      </script>\n",
              "    </div>\n",
              "  </div>\n",
              "  "
            ]
          },
          "metadata": {},
          "execution_count": 98
        }
      ],
      "source": [
        "NumericAttribute = round(data.describe().T,0)\n",
        "NumericAttribute\n",
        "#NumericAttribute.to_excel(\"NumericAttribute.xls\")\n"
      ]
    },
    {
      "cell_type": "code",
      "execution_count": null,
      "metadata": {
        "colab": {
          "base_uri": "https://localhost:8080/"
        },
        "id": "JP-NS9pFx0Ir",
        "outputId": "d98781d6-6770-46f9-a432-60986750d11a"
      },
      "outputs": [
        {
          "output_type": "execute_result",
          "data": {
            "text/plain": [
              "<bound method NDFrame.to_excel of                                                     0  \\\n",
              "App_Name                                      Gakondo   \n",
              "App_Id                            com.ishakwe.gakondo   \n",
              "Category                                    Adventure   \n",
              "Rating                                            0.0   \n",
              "Rating_Count                                      0.0   \n",
              "Installs                                          10+   \n",
              "Minimum_Installs                                 10.0   \n",
              "Maximum_Installs                                   15   \n",
              "Free                                             True   \n",
              "Price                                             0.0   \n",
              "Currency                                          USD   \n",
              "Size                                              10M   \n",
              "Minimum_Android                            7.1 and up   \n",
              "Developer_Id        Jean Confident Irénée NIYIZIBYOSE   \n",
              "Developer_Website         https://beniyizibyose.tk/#/   \n",
              "Developer_Email                jean21101999@gmail.com   \n",
              "Released                                    26-Feb-20   \n",
              "Last_Updated                                26-Feb-20   \n",
              "Content_Rating                               Everyone   \n",
              "Privacy_Policy     https://beniyizibyose.tk/projects/   \n",
              "Ad_Supported                                    False   \n",
              "In_App_Purchases                                False   \n",
              "Editors_Choice                                  False   \n",
              "Scraped_Time                          6/15/2021 20:19   \n",
              "\n",
              "                                                                   1  \\\n",
              "App_Name                                         Ampere Battery Info   \n",
              "App_Id                                    com.webserveis.batteryinfo   \n",
              "Category                                                       Tools   \n",
              "Rating                                                           4.4   \n",
              "Rating_Count                                                    64.0   \n",
              "Installs                                                      5,000+   \n",
              "Minimum_Installs                                              5000.0   \n",
              "Maximum_Installs                                                7662   \n",
              "Free                                                            True   \n",
              "Price                                                            0.0   \n",
              "Currency                                                         USD   \n",
              "Size                                                            2.9M   \n",
              "Minimum_Android                                           5.0 and up   \n",
              "Developer_Id                                              Webserveis   \n",
              "Developer_Website                    https://webserveis.netlify.app/   \n",
              "Developer_Email                                 webserveis@gmail.com   \n",
              "Released                                                   21-May-20   \n",
              "Last_Updated                                                6-May-21   \n",
              "Content_Rating                                              Everyone   \n",
              "Privacy_Policy     https://dev4phones.wordpress.com/licencia-de-uso/   \n",
              "Ad_Supported                                                    True   \n",
              "In_App_Purchases                                               False   \n",
              "Editors_Choice                                                 False   \n",
              "Scraped_Time                                         6/15/2021 20:19   \n",
              "\n",
              "                                                                   2  \\\n",
              "App_Name                                                      Vibook   \n",
              "App_Id                                          com.doantiepvien.crm   \n",
              "Category                                                Productivity   \n",
              "Rating                                                           0.0   \n",
              "Rating_Count                                                     0.0   \n",
              "Installs                                                         50+   \n",
              "Minimum_Installs                                                50.0   \n",
              "Maximum_Installs                                                  58   \n",
              "Free                                                            True   \n",
              "Price                                                            0.0   \n",
              "Currency                                                         USD   \n",
              "Size                                                            3.7M   \n",
              "Minimum_Android                                         4.0.3 and up   \n",
              "Developer_Id                                              Cabin Crew   \n",
              "Developer_Website                                                NaN   \n",
              "Developer_Email                                  vnacrewit@gmail.com   \n",
              "Released                                                    9-Aug-19   \n",
              "Last_Updated                                               19-Aug-19   \n",
              "Content_Rating                                              Everyone   \n",
              "Privacy_Policy     https://www.vietnamairlines.com/vn/en/terms-an...   \n",
              "Ad_Supported                                                   False   \n",
              "In_App_Purchases                                               False   \n",
              "Editors_Choice                                                 False   \n",
              "Scraped_Time                                         6/15/2021 20:19   \n",
              "\n",
              "                                                                   3  \\\n",
              "App_Name           Smart City Trichy Public Service Vehicles 17UC...   \n",
              "App_Id                                       cst.stJoseph.ug17ucs548   \n",
              "Category                                               Communication   \n",
              "Rating                                                           5.0   \n",
              "Rating_Count                                                     5.0   \n",
              "Installs                                                         10+   \n",
              "Minimum_Installs                                                10.0   \n",
              "Maximum_Installs                                                  19   \n",
              "Free                                                            True   \n",
              "Price                                                            0.0   \n",
              "Currency                                                         USD   \n",
              "Size                                                            1.8M   \n",
              "Minimum_Android                                         4.0.3 and up   \n",
              "Developer_Id                                     Climate Smart Tech2   \n",
              "Developer_Website                   http://www.climatesmarttech.com/   \n",
              "Developer_Email                          climatesmarttech2@gmail.com   \n",
              "Released                                                   10-Sep-18   \n",
              "Last_Updated                                               13-Oct-18   \n",
              "Content_Rating                                              Everyone   \n",
              "Privacy_Policy                                                   NaN   \n",
              "Ad_Supported                                                    True   \n",
              "In_App_Purchases                                               False   \n",
              "Editors_Choice                                                 False   \n",
              "Scraped_Time                                         6/15/2021 20:19   \n",
              "\n",
              "                                             4  \n",
              "App_Name                               GROW.me  \n",
              "App_Id                    com.horodyski.grower  \n",
              "Category                                 Tools  \n",
              "Rating                                     0.0  \n",
              "Rating_Count                               0.0  \n",
              "Installs                                  100+  \n",
              "Minimum_Installs                         100.0  \n",
              "Maximum_Installs                           478  \n",
              "Free                                      True  \n",
              "Price                                      0.0  \n",
              "Currency                                   USD  \n",
              "Size                                      6.2M  \n",
              "Minimum_Android                     4.1 and up  \n",
              "Developer_Id             Rafal Milek-Horodyski  \n",
              "Developer_Website  http://www.horodyski.com.pl  \n",
              "Developer_Email      rmilekhorodyski@gmail.com  \n",
              "Released                             21-Feb-20  \n",
              "Last_Updated                         12-Nov-18  \n",
              "Content_Rating                        Everyone  \n",
              "Privacy_Policy     http://www.horodyski.com.pl  \n",
              "Ad_Supported                             False  \n",
              "In_App_Purchases                         False  \n",
              "Editors_Choice                           False  \n",
              "Scraped_Time                   6/15/2021 20:19  >"
            ]
          },
          "metadata": {},
          "execution_count": 99
        }
      ],
      "source": [
        "#printing the transpose values for first 5 records \n",
        "data.head().T.to_excel"
      ]
    },
    {
      "cell_type": "code",
      "execution_count": null,
      "metadata": {
        "colab": {
          "base_uri": "https://localhost:8080/"
        },
        "id": "Wu6PFPfLyW05",
        "outputId": "b0b2ea27-bf05-4ac2-d1ae-983279b1e68b"
      },
      "outputs": [
        {
          "output_type": "execute_result",
          "data": {
            "text/plain": [
              "Index(['App_Name', 'App_Id', 'Category', 'Rating', 'Rating_Count', 'Installs',\n",
              "       'Minimum_Installs', 'Maximum_Installs', 'Free', 'Price', 'Currency',\n",
              "       'Size', 'Minimum_Android', 'Developer_Id', 'Developer_Website',\n",
              "       'Developer_Email', 'Released', 'Last_Updated', 'Content_Rating',\n",
              "       'Privacy_Policy', 'Ad_Supported', 'In_App_Purchases', 'Editors_Choice',\n",
              "       'Scraped_Time'],\n",
              "      dtype='object')"
            ]
          },
          "metadata": {},
          "execution_count": 100
        }
      ],
      "source": [
        "#check columns name\n",
        "data.columns"
      ]
    },
    {
      "cell_type": "code",
      "execution_count": null,
      "metadata": {
        "id": "MGOKb09Ly3U_"
      },
      "outputs": [],
      "source": [
        "#rename columns name renaming scraped time columns to scrap time period\n",
        "#inplace=True means it performs operation on data and nothing is returned.\n",
        "#inplace= False means it performs operation on data  and returns a new copy of data.\n",
        "data.rename(columns = {'Scraped_Time':'scrap_time_period'}, inplace=True)"
      ]
    },
    {
      "cell_type": "code",
      "execution_count": null,
      "metadata": {
        "colab": {
          "base_uri": "https://localhost:8080/"
        },
        "id": "BF-zChR0zvbo",
        "outputId": "916a0223-81f9-4882-ab33-11edf5fcdec6"
      },
      "outputs": [
        {
          "output_type": "stream",
          "name": "stdout",
          "text": [
            "<class 'pandas.core.frame.DataFrame'>\n",
            "RangeIndex: 1048575 entries, 0 to 1048574\n",
            "Data columns (total 24 columns):\n",
            " #   Column             Non-Null Count    Dtype  \n",
            "---  ------             --------------    -----  \n",
            " 0   App_Name           1048574 non-null  object \n",
            " 1   App_Id             1048575 non-null  object \n",
            " 2   Category           1048575 non-null  object \n",
            " 3   Rating             1038265 non-null  float64\n",
            " 4   Rating_Count       1038265 non-null  float64\n",
            " 5   Installs           1048529 non-null  object \n",
            " 6   Minimum_Installs   1048529 non-null  float64\n",
            " 7   Maximum_Installs   1048575 non-null  int64  \n",
            " 8   Free               1048575 non-null  bool   \n",
            " 9   Price              1048575 non-null  float64\n",
            " 10  Currency           1048513 non-null  object \n",
            " 11  Size               1048483 non-null  object \n",
            " 12  Minimum_Android    1045657 non-null  object \n",
            " 13  Developer_Id       1048565 non-null  object \n",
            " 14  Developer_Website  703358 non-null   object \n",
            " 15  Developer_Email    1048567 non-null  object \n",
            " 16  Released           1016542 non-null  object \n",
            " 17  Last_Updated       1048575 non-null  object \n",
            " 18  Content_Rating     1048575 non-null  object \n",
            " 19  Privacy_Policy     857918 non-null   object \n",
            " 20  Ad_Supported       1048575 non-null  bool   \n",
            " 21  In_App_Purchases   1048575 non-null  bool   \n",
            " 22  Editors_Choice     1048575 non-null  bool   \n",
            " 23  scrap_time_period  1048575 non-null  object \n",
            "dtypes: bool(4), float64(4), int64(1), object(15)\n",
            "memory usage: 164.0+ MB\n"
          ]
        }
      ],
      "source": [
        "\n",
        "#To check changes\n",
        "\n",
        "data.info()"
      ]
    },
    {
      "cell_type": "code",
      "execution_count": null,
      "metadata": {
        "colab": {
          "base_uri": "https://localhost:8080/"
        },
        "id": "kMqWULac0LBt",
        "outputId": "05bc6324-e61b-4bd4-c9ae-0882fd961036"
      },
      "outputs": [
        {
          "output_type": "execute_result",
          "data": {
            "text/plain": [
              "Developer_Website    345217\n",
              "Privacy_Policy       190657\n",
              "Released              32033\n",
              "Rating                10310\n",
              "Rating_Count          10310\n",
              "Minimum_Android        2918\n",
              "Size                     92\n",
              "Currency                 62\n",
              "Installs                 46\n",
              "Minimum_Installs         46\n",
              "Developer_Id             10\n",
              "Developer_Email           8\n",
              "App_Name                  1\n",
              "App_Id                    0\n",
              "Price                     0\n",
              "Free                      0\n",
              "Maximum_Installs          0\n",
              "Last_Updated              0\n",
              "Content_Rating            0\n",
              "Category                  0\n",
              "Ad_Supported              0\n",
              "In_App_Purchases          0\n",
              "Editors_Choice            0\n",
              "scrap_time_period         0\n",
              "dtype: int64"
            ]
          },
          "metadata": {},
          "execution_count": 103
        }
      ],
      "source": [
        "#counting number of NA values for all attributes\n",
        "data.isnull().sum().sort_values(ascending=False)"
      ]
    },
    {
      "cell_type": "code",
      "execution_count": null,
      "metadata": {
        "colab": {
          "base_uri": "https://localhost:8080/"
        },
        "id": "fgzBRTVr0c9p",
        "outputId": "cc934a22-7ddb-41de-d30d-0aa224d9893c"
      },
      "outputs": [
        {
          "output_type": "execute_result",
          "data": {
            "text/plain": [
              "0"
            ]
          },
          "metadata": {},
          "execution_count": 104
        }
      ],
      "source": [
        "#counting total number of dupliacte records in the entire dataset\n",
        "data.duplicated().sum()"
      ]
    },
    {
      "cell_type": "code",
      "source": [
        "# Drop attributes that having sufficient no. of Null value\n",
        "data = data.drop(['Developer_Website', 'Privacy_Policy', 'Released', 'Rating', 'Rating_Count', 'Minimum_Android'], axis = 1)"
      ],
      "metadata": {
        "id": "vJTO6bx_Affb"
      },
      "execution_count": null,
      "outputs": []
    },
    {
      "cell_type": "code",
      "source": [
        "#To check changes\n",
        "data.columns"
      ],
      "metadata": {
        "colab": {
          "base_uri": "https://localhost:8080/"
        },
        "id": "XkiieJeaA_W1",
        "outputId": "4d52ea7e-233e-457e-bcc8-94f002d7a531"
      },
      "execution_count": null,
      "outputs": [
        {
          "output_type": "execute_result",
          "data": {
            "text/plain": [
              "Index(['App_Name', 'App_Id', 'Category', 'Installs', 'Minimum_Installs',\n",
              "       'Maximum_Installs', 'Free', 'Price', 'Currency', 'Size', 'Developer_Id',\n",
              "       'Developer_Email', 'Last_Updated', 'Content_Rating', 'Ad_Supported',\n",
              "       'In_App_Purchases', 'Editors_Choice', 'scrap_time_period'],\n",
              "      dtype='object')"
            ]
          },
          "metadata": {},
          "execution_count": 106
        }
      ]
    },
    {
      "cell_type": "code",
      "source": [
        "# To drop NA values\n",
        "data = data.dropna(how = \"any\", inplace = False )"
      ],
      "metadata": {
        "id": "6NLsepTwBZFS"
      },
      "execution_count": null,
      "outputs": []
    },
    {
      "cell_type": "code",
      "source": [
        "data.isna().sum()"
      ],
      "metadata": {
        "colab": {
          "base_uri": "https://localhost:8080/"
        },
        "id": "GsM96xEABcAv",
        "outputId": "16beffb3-621d-4051-85fa-a2b149e2d89d"
      },
      "execution_count": null,
      "outputs": [
        {
          "output_type": "execute_result",
          "data": {
            "text/plain": [
              "App_Name             0\n",
              "App_Id               0\n",
              "Category             0\n",
              "Installs             0\n",
              "Minimum_Installs     0\n",
              "Maximum_Installs     0\n",
              "Free                 0\n",
              "Price                0\n",
              "Currency             0\n",
              "Size                 0\n",
              "Developer_Id         0\n",
              "Developer_Email      0\n",
              "Last_Updated         0\n",
              "Content_Rating       0\n",
              "Ad_Supported         0\n",
              "In_App_Purchases     0\n",
              "Editors_Choice       0\n",
              "scrap_time_period    0\n",
              "dtype: int64"
            ]
          },
          "metadata": {},
          "execution_count": 108
        }
      ]
    },
    {
      "cell_type": "code",
      "source": [
        "data.dtypes"
      ],
      "metadata": {
        "colab": {
          "base_uri": "https://localhost:8080/"
        },
        "id": "ccDdQ0tw55qB",
        "outputId": "be1a38d8-bec2-4a61-bcbd-8c0a2b61d882"
      },
      "execution_count": null,
      "outputs": [
        {
          "output_type": "execute_result",
          "data": {
            "text/plain": [
              "App_Name              object\n",
              "App_Id                object\n",
              "Category              object\n",
              "Installs              object\n",
              "Minimum_Installs     float64\n",
              "Maximum_Installs       int64\n",
              "Free                    bool\n",
              "Price                float64\n",
              "Currency              object\n",
              "Size                  object\n",
              "Developer_Id          object\n",
              "Developer_Email       object\n",
              "Last_Updated          object\n",
              "Content_Rating        object\n",
              "Ad_Supported            bool\n",
              "In_App_Purchases        bool\n",
              "Editors_Choice          bool\n",
              "scrap_time_period     object\n",
              "dtype: object"
            ]
          },
          "metadata": {},
          "execution_count": 109
        }
      ]
    },
    {
      "cell_type": "code",
      "source": [
        "#Float to numeric\n",
        "\n",
        "data[\"Minimum_Installs\"] = pd.to_numeric(data['Minimum_Installs'])\n",
        "data[\"Price\"] = pd.to_numeric(data['Price'])\n",
        "data[\"Ad_Supported\"] = pd.to_numeric(data['Ad_Supported'])\n",
        "data[\"In_App_Purchases\"] = pd.to_numeric(data['In_App_Purchases'])\n",
        "data[\"Editors_Choice\"] = pd.to_numeric(data['Editors_Choice'])"
      ],
      "metadata": {
        "id": "MtlS3fu--T0y"
      },
      "execution_count": null,
      "outputs": []
    },
    {
      "cell_type": "code",
      "source": [
        "#NUmeric t0 int\n",
        "\n",
        "data[\"Minimum_Installs\"] = data[\"Minimum_Installs\"].astype(\"int\")\n",
        "data[\"Price\"] = data[\"Price\"].astype(\"int\")\n",
        "data[\"Ad_Supported\"] = data[\"Ad_Supported\"].astype(\"int\")\n",
        "data[\"In_App_Purchases\"] = data[\"In_App_Purchases\"].astype(\"int\")\n",
        "data[\"Editors_Choice\"] = data[\"Editors_Choice\"].astype(\"int\")\n"
      ],
      "metadata": {
        "id": "wWdFKveZ_S1n"
      },
      "execution_count": null,
      "outputs": []
    },
    {
      "cell_type": "code",
      "execution_count": null,
      "metadata": {
        "id": "bjkjIgU74Bt_"
      },
      "outputs": [],
      "source": [
        "#converting few column datatype to catrgory\n",
        "data[\"Free\"]=data[\"Free\"].astype(\"category\")\n",
        "data[\"Currency\"]=data[\"Currency\"].astype(\"category\")\n",
        "data[\"App_Name\"]=data[\"App_Name\"].astype(\"category\")\n",
        "data[\"Category\"]=data[\"Category\"].astype(\"category\")\n",
        "data[\"Installs\"]=data[\"Installs\"].astype(\"category\")\n",
        "data[\"Size\"]=data[\"Size\"].astype(\"category\")\n",
        "data[\"Last_Updated\"]=data[\"Last_Updated\"].astype(\"category\")\n",
        "data[\"Content_Rating\"]=data[\"Content_Rating\"].astype(\"category\")\n",
        "data[\"scrap_time_period\"]=data[\"scrap_time_period\"].astype(\"category\")\n",
        "data[\"App_Id\"]=data[\"App_Id\"].astype(\"category\")\n",
        "data[\"Developer_Id\"]=data[\"Developer_Id\"].astype(\"category\")\n",
        "data[\"Developer_Email\"]=data[\"Developer_Email\"].astype(\"category\")\n",
        "\n"
      ]
    },
    {
      "cell_type": "code",
      "source": [
        "#Boxplots\n",
        "\n",
        "\n",
        "fig, axes = plt.subplots(8, 1, figsize=(10, 30))\n",
        "\n",
        "\n",
        "\n",
        "\n",
        "\n",
        "#Minimum_installs\n",
        "\n",
        "sns.boxplot('Minimum_Installs', data = data, ax = axes[2])\n",
        "axes[2].set_title(\"Minimum_installs\")\n",
        "\n",
        "#Maximum_install\n",
        "\n",
        "sns.boxplot('Maximum_Installs', data = data, ax = axes[3])\n",
        "axes[3].set_title(\"Maximum_Installs\")\n",
        "\n",
        "#price\n",
        "\n",
        "sns.boxplot('Price', data = data, ax = axes[4])\n",
        "axes[4].set_title(\"Price\")\n",
        "\n",
        "\n",
        "#ad_supported\n",
        "\n",
        "sns.boxplot('Ad_Supported', data = data, ax = axes[5])\n",
        "axes[5].set_title(\"Ad_Supported\")\n",
        "\n",
        "#in_app_purchases\n",
        "\n",
        "sns.boxplot('In_App_Purchases', data = data, ax = axes[6])\n",
        "axes[6].set_title(\"In_App_Purchases\")\n",
        "\n",
        "#editors_choice\n",
        "\n",
        "sns.boxplot('Editors_Choice', data = data, ax = axes[7])\n",
        "axes[7].set_title(\"Editors_Choice\")"
      ],
      "metadata": {
        "colab": {
          "base_uri": "https://localhost:8080/",
          "height": 1000
        },
        "id": "chlyKRapt1lO",
        "outputId": "3adc6969-08c2-4a27-c181-7278b518e9d8"
      },
      "execution_count": null,
      "outputs": [
        {
          "output_type": "execute_result",
          "data": {
            "text/plain": [
              "Text(0.5, 1.0, 'Editors_Choice')"
            ]
          },
          "metadata": {},
          "execution_count": 113
        },
        {
          "output_type": "display_data",
          "data": {
            "text/plain": [
              "<Figure size 720x2160 with 8 Axes>"
            ],
            "image/png": "[encoded data removed]"
          },
          "metadata": {
            "needs_background": "light"
          }
        }
      ]
    },
    {
      "cell_type": "markdown",
      "source": [
        "INTERQUARTILE RANGE( IT IS THE DIIFERENCE BWTWEEN THE 75TH AND 25TH PERCENTILE OF THE DATA)"
      ],
      "metadata": {
        "id": "9RSuTy4bhpN5"
      }
    },
    {
      "cell_type": "code",
      "source": [
        "#Calculate Q1 for Leadtime attribute\n",
        " \n",
        "Q1_LeadTime = data.Minimum_Installs.quantile(0.25)\n",
        "print(\"Q1_LeadTime:\", int(Q1_LeadTime), \"days\")\n",
        "\n",
        "#Calculating Q3 for LeadTime attribute\n",
        "Q3_LeadTime = data.Minimum_Installs.quantile(0.75)\n",
        "print(\"Q3_LeadTime:\", int(Q3_LeadTime), \"days\")\n",
        "\n",
        "#Calculating IQR for LeadTime attribute\n",
        "IQR_LeadTime = Q3_LeadTime - Q1_LeadTime\n",
        "\n",
        "#Calculating Lower bound for LeadTime attribute\n",
        "lowerBound_LeadTime = Q1_LeadTime - (1.5 * IQR_LeadTime)\n",
        "\n",
        "#Calculating Upper bound for LeadTime attribute\n",
        "upperBound_LeadTime = Q3_LeadTime + (1.5 * IQR_LeadTime)\n",
        "\n",
        "##Removing the outlier\n",
        "index = data['Minimum_Installs'][(data['Minimum_Installs'] > upperBound_LeadTime)].index\n",
        "data.drop(index, inplace = True)\n",
        "\n",
        "#Visualizing distribution of LeadTime attribute\n",
        "sns.boxplot(x = 'Minimum_Installs', data = data)\n",
        "plt.tight_layout()\n",
        "plt.show()"
      ],
      "metadata": {
        "colab": {
          "base_uri": "https://localhost:8080/",
          "height": 332
        },
        "id": "BayteR-Nt1D9",
        "outputId": "77d3b6ad-6376-4bb1-be44-832b6b6b3586"
      },
      "execution_count": null,
      "outputs": [
        {
          "output_type": "stream",
          "name": "stdout",
          "text": [
            "Q1_LeadTime: 50 days\n",
            "Q3_LeadTime: 5000 days\n"
          ]
        },
        {
          "output_type": "display_data",
          "data": {
            "text/plain": [
              "<Figure size 432x288 with 1 Axes>"
            ],
            "image/png": "[encoded data removed]"
          },
          "metadata": {
            "needs_background": "light"
          }
        }
      ]
    },
    {
      "cell_type": "code",
      "source": [
        "#Calculate Q1 for Leadtime attribute\n",
        " \n",
        "Q1_LeadTime = data.Maximum_Installs.quantile(0.25)\n",
        "print(\"Q1_LeadTime:\", int(Q1_LeadTime), \"days\")\n",
        "\n",
        "#Calculating Q3 for LeadTime attribute\n",
        "Q3_LeadTime = data.Maximum_Installs.quantile(0.75)\n",
        "print(\"Q3_LeadTime:\", int(Q3_LeadTime), \"days\")\n",
        "\n",
        "#Calculating IQR for LeadTime attribute\n",
        "IQR_LeadTime = Q3_LeadTime - Q1_LeadTime\n",
        "\n",
        "#Calculating Lower bound for LeadTime attribute\n",
        "lowerBound_LeadTime = Q1_LeadTime - (1.5 * IQR_LeadTime)\n",
        "\n",
        "#Calculating Upper bound for LeadTime attribute\n",
        "upperBound_LeadTime = Q3_LeadTime + (1.5 * IQR_LeadTime)\n",
        "\n",
        "##Removing the outlier\n",
        "index = data['Maximum_Installs'][(data['Maximum_Installs'] > upperBound_LeadTime)].index\n",
        "data.drop(index, inplace = True)\n",
        "\n",
        "#Visualizing distribution of LeadTime attribute\n",
        "sns.boxplot(x = 'Maximum_Installs', data = data)\n",
        "plt.tight_layout()\n",
        "plt.show()"
      ],
      "metadata": {
        "colab": {
          "base_uri": "https://localhost:8080/",
          "height": 332
        },
        "id": "abFFwxZut1BI",
        "outputId": "b84f9028-a8f6-4f28-cf3d-7d213930f932"
      },
      "execution_count": null,
      "outputs": [
        {
          "output_type": "stream",
          "name": "stdout",
          "text": [
            "Q1_LeadTime: 64 days\n",
            "Q3_LeadTime: 3059 days\n"
          ]
        },
        {
          "output_type": "display_data",
          "data": {
            "text/plain": [
              "<Figure size 432x288 with 1 Axes>"
            ],
            "image/png": "[encoded data removed]"
          },
          "metadata": {
            "needs_background": "light"
          }
        }
      ]
    },
    {
      "cell_type": "code",
      "source": [
        "#Calculate Q1 for Leadtime attribute\n",
        " \n",
        "Q1_LeadTime = data.Price.quantile(0.25)\n",
        "print(\"Q1_LeadTime:\", int(Q1_LeadTime), \"days\")\n",
        "\n",
        "#Calculating Q3 for LeadTime attribute\n",
        "Q3_LeadTime = data.Price.quantile(0.75)\n",
        "print(\"Q3_LeadTime:\", int(Q3_LeadTime), \"days\")\n",
        "\n",
        "#Calculating IQR for LeadTime attribute\n",
        "IQR_LeadTime = Q3_LeadTime - Q1_LeadTime\n",
        "\n",
        "#Calculating Lower bound for LeadTime attribute\n",
        "lowerBound_LeadTime = Q1_LeadTime - (1.5 * IQR_LeadTime)\n",
        "\n",
        "#Calculating Upper bound for LeadTime attribute\n",
        "upperBound_LeadTime = Q3_LeadTime + (1.5 * IQR_LeadTime)\n",
        "\n",
        "##Removing the outlier\n",
        "index = data['Price'][(data['Price'] > upperBound_LeadTime)].index\n",
        "data.drop(index, inplace = True)\n",
        "\n",
        "#Visualizing distribution of LeadTime attribute\n",
        "sns.boxplot(x = 'Price', data = data)\n",
        "plt.tight_layout()\n",
        "plt.show()"
      ],
      "metadata": {
        "colab": {
          "base_uri": "https://localhost:8080/",
          "height": 332
        },
        "id": "vKc7XpeXxEvy",
        "outputId": "bb0274ee-47c0-41be-9650-401d1f735e5a"
      },
      "execution_count": null,
      "outputs": [
        {
          "output_type": "stream",
          "name": "stdout",
          "text": [
            "Q1_LeadTime: 0 days\n",
            "Q3_LeadTime: 0 days\n"
          ]
        },
        {
          "output_type": "display_data",
          "data": {
            "text/plain": [
              "<Figure size 432x288 with 1 Axes>"
            ],
            "image/png": "[encoded data removed]"
          },
          "metadata": {
            "needs_background": "light"
          }
        }
      ]
    },
    {
      "cell_type": "code",
      "source": [
        "#Calculate Q1 for Leadtime attribute\n",
        " \n",
        "Q1_LeadTime = data.Ad_Supported.quantile(0.25)\n",
        "print(\"Q1_LeadTime:\", int(Q1_LeadTime), \"days\")\n",
        "\n",
        "#Calculating Q3 for LeadTime attribute\n",
        "Q3_LeadTime = data.Ad_Supported.quantile(0.75)\n",
        "print(\"Q3_LeadTime:\", int(Q3_LeadTime), \"days\")\n",
        "\n",
        "#Calculating IQR for LeadTime attribute\n",
        "IQR_LeadTime = Q3_LeadTime - Q1_LeadTime\n",
        "\n",
        "#Calculating Lower bound for LeadTime attribute\n",
        "lowerBound_LeadTime = Q1_LeadTime - (1.5 * IQR_LeadTime)\n",
        "\n",
        "#Calculating Upper bound for LeadTime attribute\n",
        "upperBound_LeadTime = Q3_LeadTime + (1.5 * IQR_LeadTime)\n",
        "\n",
        "##Removing the outlier\n",
        "index = data['Ad_Supported'][(data['Ad_Supported'] > upperBound_LeadTime)].index\n",
        "data.drop(index, inplace = True)\n",
        "\n",
        "#Visualizing distribution of LeadTime attribute\n",
        "sns.boxplot(x = 'Ad_Supported', data = data)\n",
        "plt.tight_layout()\n",
        "plt.show()"
      ],
      "metadata": {
        "colab": {
          "base_uri": "https://localhost:8080/",
          "height": 332
        },
        "id": "sVkrJKr8xEsE",
        "outputId": "88206c86-9890-4f82-f3df-1b3d82f5271b"
      },
      "execution_count": null,
      "outputs": [
        {
          "output_type": "stream",
          "name": "stdout",
          "text": [
            "Q1_LeadTime: 0 days\n",
            "Q3_LeadTime: 1 days\n"
          ]
        },
        {
          "output_type": "display_data",
          "data": {
            "text/plain": [
              "<Figure size 432x288 with 1 Axes>"
            ],
            "image/png": "[encoded data removed]"
          },
          "metadata": {
            "needs_background": "light"
          }
        }
      ]
    },
    {
      "cell_type": "code",
      "source": [
        "#Calculate Q1 for Leadtime attribute\n",
        " \n",
        "Q1_LeadTime = data.In_App_Purchases.quantile(0.25)\n",
        "print(\"Q1_LeadTime:\", int(Q1_LeadTime), \"days\")\n",
        "\n",
        "#Calculating Q3 for LeadTime attribute\n",
        "Q3_LeadTime = data.In_App_Purchases.quantile(0.75)\n",
        "print(\"Q3_LeadTime:\", int(Q3_LeadTime), \"days\")\n",
        "\n",
        "#Calculating IQR for LeadTime attribute\n",
        "IQR_LeadTime = Q3_LeadTime - Q1_LeadTime\n",
        "\n",
        "#Calculating Lower bound for LeadTime attribute\n",
        "lowerBound_LeadTime = Q1_LeadTime - (1.5 * IQR_LeadTime)\n",
        "\n",
        "#Calculating Upper bound for LeadTime attribute\n",
        "upperBound_LeadTime = Q3_LeadTime + (1.5 * IQR_LeadTime)\n",
        "\n",
        "##Removing the outlier\n",
        "index = data['In_App_Purchases'][(data['In_App_Purchases'] > upperBound_LeadTime)].index\n",
        "data.drop(index, inplace = True)\n",
        "\n",
        "#Visualizing distribution of LeadTime attribute\n",
        "sns.boxplot(x = 'In_App_Purchases', data = data)\n",
        "plt.tight_layout()\n",
        "plt.show()"
      ],
      "metadata": {
        "colab": {
          "base_uri": "https://localhost:8080/",
          "height": 332
        },
        "id": "Yj1Zu0EtxEpx",
        "outputId": "a01173ca-dd09-48da-d2eb-864873e818ad"
      },
      "execution_count": null,
      "outputs": [
        {
          "output_type": "stream",
          "name": "stdout",
          "text": [
            "Q1_LeadTime: 0 days\n",
            "Q3_LeadTime: 0 days\n"
          ]
        },
        {
          "output_type": "display_data",
          "data": {
            "text/plain": [
              "<Figure size 432x288 with 1 Axes>"
            ],
            "image/png": "[encoded data removed]"
          },
          "metadata": {
            "needs_background": "light"
          }
        }
      ]
    },
    {
      "cell_type": "code",
      "source": [
        "#Calculate Q1 for Leadtime attribute\n",
        " \n",
        "Q1_LeadTime = data.Editors_Choice.quantile(0.25)\n",
        "print(\"Q1_LeadTime:\", int(Q1_LeadTime), \"days\")\n",
        "\n",
        "#Calculating Q3 for LeadTime attribute\n",
        "Q3_LeadTime = data.Editors_Choice.quantile(0.75)\n",
        "print(\"Q3_LeadTime:\", int(Q3_LeadTime), \"days\")\n",
        "\n",
        "#Calculating IQR for LeadTime attribute\n",
        "IQR_LeadTime = Q3_LeadTime - Q1_LeadTime\n",
        "\n",
        "#Calculating Lower bound for LeadTime attribute\n",
        "lowerBound_LeadTime = Q1_LeadTime - (1.5 * IQR_LeadTime)\n",
        "\n",
        "#Calculating Upper bound for LeadTime attribute\n",
        "upperBound_LeadTime = Q3_LeadTime + (1.5 * IQR_LeadTime)\n",
        "\n",
        "##Removing the outlier\n",
        "index = data['Editors_Choice'][(data['Editors_Choice'] > upperBound_LeadTime)].index\n",
        "data.drop(index, inplace = True)\n",
        "\n",
        "#Visualizing distribution of LeadTime attribute\n",
        "sns.boxplot(x = 'Editors_Choice', data = data)\n",
        "plt.tight_layout()\n",
        "plt.show()"
      ],
      "metadata": {
        "colab": {
          "base_uri": "https://localhost:8080/",
          "height": 332
        },
        "id": "1s1GS0HOxEnT",
        "outputId": "9e5ea5de-3994-4a5b-9a03-3747d1c38753"
      },
      "execution_count": null,
      "outputs": [
        {
          "output_type": "stream",
          "name": "stdout",
          "text": [
            "Q1_LeadTime: 0 days\n",
            "Q3_LeadTime: 0 days\n"
          ]
        },
        {
          "output_type": "display_data",
          "data": {
            "text/plain": [
              "<Figure size 432x288 with 1 Axes>"
            ],
            "image/png": "[encoded data removed]"
          },
          "metadata": {
            "needs_background": "light"
          }
        }
      ]
    },
    {
      "cell_type": "code",
      "execution_count": null,
      "metadata": {
        "colab": {
          "base_uri": "https://localhost:8080/"
        },
        "id": "WD-MfbGxBg1K",
        "outputId": "09add342-9a85-464a-b2bf-19c6099019ce"
      },
      "outputs": [
        {
          "output_type": "execute_result",
          "data": {
            "text/plain": [
              "App_Name             category\n",
              "App_Id               category\n",
              "Category             category\n",
              "Installs             category\n",
              "Minimum_Installs        int64\n",
              "Maximum_Installs        int64\n",
              "Free                 category\n",
              "Price                   int64\n",
              "Currency             category\n",
              "Size                 category\n",
              "Developer_Id         category\n",
              "Developer_Email      category\n",
              "Last_Updated         category\n",
              "Content_Rating       category\n",
              "Ad_Supported            int64\n",
              "In_App_Purchases        int64\n",
              "Editors_Choice          int64\n",
              "scrap_time_period    category\n",
              "dtype: object"
            ]
          },
          "metadata": {},
          "execution_count": 120
        }
      ],
      "source": [
        "data.dtypes"
      ]
    },
    {
      "cell_type": "code",
      "execution_count": null,
      "metadata": {
        "colab": {
          "base_uri": "https://localhost:8080/"
        },
        "id": "_0t2y2pIBxrQ",
        "outputId": "29f8e7f1-fc16-4e2a-8418-2f5417f76723"
      },
      "outputs": [
        {
          "output_type": "execute_result",
          "data": {
            "text/plain": [
              "[True, False]\n",
              "Categories (2, object): [False, True]"
            ]
          },
          "metadata": {},
          "execution_count": 121
        }
      ],
      "source": [
        "data[\"Free\"].unique()"
      ]
    },
    {
      "cell_type": "code",
      "execution_count": null,
      "metadata": {
        "colab": {
          "base_uri": "https://localhost:8080/"
        },
        "id": "DGMBdbR-CHWu",
        "outputId": "4c94227b-abca-4ce6-8c77-30360ed24c24"
      },
      "outputs": [
        {
          "output_type": "execute_result",
          "data": {
            "text/plain": [
              "True     731768\n",
              "False      4609\n",
              "Name: Free, dtype: int64"
            ]
          },
          "metadata": {},
          "execution_count": 122
        }
      ],
      "source": [
        "#counting count values  for free attribute\n",
        "data[\"Free\"].value_counts()\n"
      ]
    },
    {
      "cell_type": "code",
      "execution_count": null,
      "metadata": {
        "colab": {
          "base_uri": "https://localhost:8080/",
          "height": 298
        },
        "id": "WhAo_4RjRce3",
        "outputId": "3cd002d7-10da-440c-faf6-66c7ad048cc2"
      },
      "outputs": [
        {
          "output_type": "display_data",
          "data": {
            "text/plain": [
              "<Figure size 432x288 with 1 Axes>"
            ],
            "image/png": "[encoded data removed]"
          },
          "metadata": {
            "needs_background": "light"
          }
        },
        {
          "output_type": "display_data",
          "data": {
            "text/plain": [
              "<Figure size 1440x720 with 0 Axes>"
            ]
          },
          "metadata": {}
        }
      ],
      "source": [
        "## Distribution of Content_Rating\n",
        "\n",
        "sns.histplot(data['Content_Rating'])\n",
        "plt.figure(figsize=(20, 10))\n",
        "plt.show()"
      ]
    },
    {
      "cell_type": "code",
      "execution_count": null,
      "metadata": {
        "colab": {
          "base_uri": "https://localhost:8080/",
          "height": 279
        },
        "id": "mzvtE-gXRcaW",
        "outputId": "2590eb1c-2d26-48b2-ba66-d96e72d37dcb"
      },
      "outputs": [
        {
          "output_type": "display_data",
          "data": {
            "text/plain": [
              "<Figure size 432x288 with 1 Axes>"
            ],
            "image/png": "[encoded data removed]"
          },
          "metadata": {
            "needs_background": "light"
          }
        }
      ],
      "source": [
        "#Distribution of currency.\n",
        "\n",
        "sns.histplot(x = 'Currency', data = data)\n",
        "plt.show()"
      ]
    },
    {
      "cell_type": "markdown",
      "source": [
        "#percentage of applications that are FREE of COST to the customers"
      ],
      "metadata": {
        "id": "ctr5Ec-Xjg9P"
      }
    },
    {
      "cell_type": "code",
      "source": [
        "data.Free.value_counts()"
      ],
      "metadata": {
        "colab": {
          "base_uri": "https://localhost:8080/"
        },
        "id": "xO7vd37Zi3HN",
        "outputId": "e947ecef-36d3-4376-f2a9-4bbdeea3a48f"
      },
      "execution_count": null,
      "outputs": [
        {
          "output_type": "execute_result",
          "data": {
            "text/plain": [
              "True     731768\n",
              "False      4609\n",
              "Name: Free, dtype: int64"
            ]
          },
          "metadata": {},
          "execution_count": 125
        }
      ]
    },
    {
      "cell_type": "code",
      "source": [
        "#Pie chart \n",
        "\n",
        "Free = data.Free[data[\"Free\"]==1].count()\n",
        "NotFree = data.Free[data[\"Free\"]==0].count()\n",
        "\n",
        "labels = ['Free', 'NotFree']\n",
        "slices = [Free, NotFree]\n",
        "explode = [0.1, 0]\n",
        "\n",
        "plt.pie(slices, labels = labels, explode = explode, shadow = True,\n",
        "        startangle = -40, autopct = '%1.1f%%',\n",
        "        wedgeprops = {'edgecolor':'black'})\n",
        "plt.axis('equal') #equal aspect ratio ensures that pie is drawn as a circle\n",
        "plt.title(\"Is App free or not?\",fontdict={'size':20,'weight':'bold'})\n",
        "plt.legend()\n",
        "plt.tight_layout #used for default padding\n",
        "#plt.savefig('Is App free or not?.jpg')\n",
        "plt.show()"
      ],
      "metadata": {
        "colab": {
          "base_uri": "https://localhost:8080/",
          "height": 269
        },
        "id": "N7zsf3GMjH9w",
        "outputId": "41fee9ea-573f-480d-940c-823e410d4ff4"
      },
      "execution_count": null,
      "outputs": [
        {
          "output_type": "display_data",
          "data": {
            "text/plain": [
              "<Figure size 432x288 with 1 Axes>"
            ],
            "image/png": "[encoded data removed]"
          },
          "metadata": {}
        }
      ]
    },
    {
      "cell_type": "markdown",
      "source": [
        "# Percentage of applications that Supported Ads and without Ads."
      ],
      "metadata": {
        "id": "qj6n52Pdjo23"
      }
    },
    {
      "cell_type": "code",
      "source": [
        "#Pie chart\n",
        "\n",
        "Supported = data.Free[data[\"Free\"]==1].count()\n",
        "NotSupported = data.Free[data[\"Free\"]==0].count()\n",
        "\n",
        "labels = ['Supported', 'NotSupported']\n",
        "slices = [Supported, NotSupported]\n",
        "explode = [0.1, 0]\n",
        "\n",
        "plt.pie(slices, labels = labels, explode = explode, shadow = True,\n",
        "        startangle = -40, autopct = '%1.1f%%',\n",
        "        wedgeprops = {'edgecolor':'black'})\n",
        "plt.axis('equal') #equal aspect ratio ensures that pie is drawn as a circle\n",
        "plt.title(\"Is App Supported or not?\",fontdict={'size':20,'weight':'bold'})\n",
        "plt.legend()\n",
        "plt.tight_layout #used for default padding\n",
        "#plt.savefig('Is App Supported or not?.jpg')\n",
        "plt.show()"
      ],
      "metadata": {
        "colab": {
          "base_uri": "https://localhost:8080/",
          "height": 269
        },
        "id": "v2OYTqEGjKxA",
        "outputId": "2587e1fa-724d-40a7-f8fa-ab3b4bdd2c07"
      },
      "execution_count": null,
      "outputs": [
        {
          "output_type": "display_data",
          "data": {
            "text/plain": [
              "<Figure size 432x288 with 1 Axes>"
            ],
            "image/png": "[encoded data removed]"
          },
          "metadata": {}
        }
      ]
    },
    {
      "cell_type": "markdown",
      "source": [
        "#Percentage of Applications that are in purchases and without purchases"
      ],
      "metadata": {
        "id": "6cigiKQ1j6su"
      }
    },
    {
      "cell_type": "code",
      "source": [
        "#Pie chart\n",
        "\n",
        "Purchased = data.Free[data[\"Free\"]==1].count()\n",
        "NotPurchased = data.Free[data[\"Free\"]==0].count()\n",
        "\n",
        "labels = ['Purchased', 'NotPurchased']\n",
        "slices = [Purchased, NotPurchased]\n",
        "explode = [0.1, 0]\n",
        "\n",
        "plt.pie(slices, labels = labels, explode = explode, shadow = True,\n",
        "        startangle = -40, autopct = '%1.1f%%',\n",
        "        wedgeprops = {'edgecolor':'black'})\n",
        "plt.axis('equal') #equal aspect ratio ensures that pie is drawn as a circle\n",
        "plt.title(\"Is App Supported or not?\",fontdict={'size':20,'weight':'bold'})\n",
        "plt.legend()\n",
        "plt.tight_layout #used for default padding\n",
        "#plt.savefig('Is App Supported or not?.jpg')\n",
        "plt.show()"
      ],
      "metadata": {
        "colab": {
          "base_uri": "https://localhost:8080/",
          "height": 269
        },
        "id": "WdiwiJu8jKty",
        "outputId": "ca9accea-9c23-48c7-d5f7-6c82c7e89d6b"
      },
      "execution_count": null,
      "outputs": [
        {
          "output_type": "display_data",
          "data": {
            "text/plain": [
              "<Figure size 432x288 with 1 Axes>"
            ],
            "image/png": "[encoded data removed]"
          },
          "metadata": {}
        }
      ]
    },
    {
      "cell_type": "code",
      "execution_count": null,
      "metadata": {
        "id": "yOnjQGBFi1A9"
      },
      "outputs": [],
      "source": [
        "#drop the columns that are not numeric\n",
        "data = data.drop(['App_Name','App_Id','Content_Rating','Category','Free','Installs','Currency','Developer_Id','Developer_Email','Size','scrap_time_period','App_Name','Last_Updated','Category'] , axis = 1)\n"
      ]
    },
    {
      "cell_type": "code",
      "source": [
        "data.columns"
      ],
      "metadata": {
        "colab": {
          "base_uri": "https://localhost:8080/"
        },
        "id": "1U04bJXXJHjT",
        "outputId": "6b83fb64-b546-43da-a126-c8431d34cfd8"
      },
      "execution_count": null,
      "outputs": [
        {
          "output_type": "execute_result",
          "data": {
            "text/plain": [
              "Index(['Minimum_Installs', 'Maximum_Installs', 'Price', 'Ad_Supported',\n",
              "       'In_App_Purchases', 'Editors_Choice'],\n",
              "      dtype='object')"
            ]
          },
          "metadata": {},
          "execution_count": 130
        }
      ]
    },
    {
      "cell_type": "markdown",
      "source": [
        "# Normalize the data set using Min-Max Scaling: "
      ],
      "metadata": {
        "id": "v-Wdm2GcDWXq"
      }
    },
    {
      "cell_type": "code",
      "source": [
        "from sklearn import preprocessing"
      ],
      "metadata": {
        "id": "hhKSXCdCDYvA"
      },
      "execution_count": null,
      "outputs": []
    },
    {
      "cell_type": "code",
      "source": [
        "scaler = preprocessing.MinMaxScaler()"
      ],
      "metadata": {
        "id": "CsihFWGDDYrs"
      },
      "execution_count": null,
      "outputs": []
    },
    {
      "cell_type": "code",
      "source": [
        "names = data.columns"
      ],
      "metadata": {
        "id": "S10nGdRIDYpB"
      },
      "execution_count": null,
      "outputs": []
    },
    {
      "cell_type": "code",
      "source": [
        "d = scaler.fit_transform(data)"
      ],
      "metadata": {
        "id": "L4RlHUqyDV4z"
      },
      "execution_count": null,
      "outputs": []
    },
    {
      "cell_type": "code",
      "source": [
        "scaled_df = pd.DataFrame(d,columns=names)"
      ],
      "metadata": {
        "id": "t0zAwjZvDneN"
      },
      "execution_count": null,
      "outputs": []
    },
    {
      "cell_type": "code",
      "source": [
        "scaled_df.head().T"
      ],
      "metadata": {
        "colab": {
          "base_uri": "https://localhost:8080/",
          "height": 238
        },
        "id": "cpVzN1r3DnZb",
        "outputId": "5cedb8c8-3aef-4dc9-f904-fa388384a6c8"
      },
      "execution_count": null,
      "outputs": [
        {
          "output_type": "execute_result",
          "data": {
            "text/plain": [
              "                         0         1         2         3         4\n",
              "Minimum_Installs  0.002000  0.010000  0.002000  0.020000  0.200000\n",
              "Maximum_Installs  0.001986  0.007681  0.002516  0.063303  0.339955\n",
              "Price             0.000000  0.000000  0.000000  0.000000  0.000000\n",
              "Ad_Supported      0.000000  0.000000  1.000000  0.000000  1.000000\n",
              "In_App_Purchases  0.000000  0.000000  0.000000  0.000000  0.000000\n",
              "Editors_Choice    0.000000  0.000000  0.000000  0.000000  0.000000"
            ],
            "text/html": [
              "\n",
              "  <div id=\"df-7f36b9f3-856a-452d-ad1b-828b1b7211c5\">\n",
              "    <div class=\"colab-df-container\">\n",
              "      <div>\n",
              "<style scoped>\n",
              "    .dataframe tbody tr th:only-of-type {\n",
              "        vertical-align: middle;\n",
              "    }\n",
              "\n",
              "    .dataframe tbody tr th {\n",
              "        vertical-align: top;\n",
              "    }\n",
              "\n",
              "    .dataframe thead th {\n",
              "        text-align: right;\n",
              "    }\n",
              "</style>\n",
              "<table border=\"1\" class=\"dataframe\">\n",
              "  <thead>\n",
              "    <tr style=\"text-align: right;\">\n",
              "      <th></th>\n",
              "      <th>0</th>\n",
              "      <th>1</th>\n",
              "      <th>2</th>\n",
              "      <th>3</th>\n",
              "      <th>4</th>\n",
              "    </tr>\n",
              "  </thead>\n",
              "  <tbody>\n",
              "    <tr>\n",
              "      <th>Minimum_Installs</th>\n",
              "      <td>0.002000</td>\n",
              "      <td>0.010000</td>\n",
              "      <td>0.002000</td>\n",
              "      <td>0.020000</td>\n",
              "      <td>0.200000</td>\n",
              "    </tr>\n",
              "    <tr>\n",
              "      <th>Maximum_Installs</th>\n",
              "      <td>0.001986</td>\n",
              "      <td>0.007681</td>\n",
              "      <td>0.002516</td>\n",
              "      <td>0.063303</td>\n",
              "      <td>0.339955</td>\n",
              "    </tr>\n",
              "    <tr>\n",
              "      <th>Price</th>\n",
              "      <td>0.000000</td>\n",
              "      <td>0.000000</td>\n",
              "      <td>0.000000</td>\n",
              "      <td>0.000000</td>\n",
              "      <td>0.000000</td>\n",
              "    </tr>\n",
              "    <tr>\n",
              "      <th>Ad_Supported</th>\n",
              "      <td>0.000000</td>\n",
              "      <td>0.000000</td>\n",
              "      <td>1.000000</td>\n",
              "      <td>0.000000</td>\n",
              "      <td>1.000000</td>\n",
              "    </tr>\n",
              "    <tr>\n",
              "      <th>In_App_Purchases</th>\n",
              "      <td>0.000000</td>\n",
              "      <td>0.000000</td>\n",
              "      <td>0.000000</td>\n",
              "      <td>0.000000</td>\n",
              "      <td>0.000000</td>\n",
              "    </tr>\n",
              "    <tr>\n",
              "      <th>Editors_Choice</th>\n",
              "      <td>0.000000</td>\n",
              "      <td>0.000000</td>\n",
              "      <td>0.000000</td>\n",
              "      <td>0.000000</td>\n",
              "      <td>0.000000</td>\n",
              "    </tr>\n",
              "  </tbody>\n",
              "</table>\n",
              "</div>\n",
              "      <button class=\"colab-df-convert\" onclick=\"convertToInteractive('df-7f36b9f3-856a-452d-ad1b-828b1b7211c5')\"\n",
              "              title=\"Convert this dataframe to an interactive table.\"\n",
              "              style=\"display:none;\">\n",
              "        \n",
              "  <svg xmlns=\"http://www.w3.org/2000/svg\" height=\"24px\"viewBox=\"0 0 24 24\"\n",
              "       width=\"24px\">\n",
              "    <path d=\"M0 0h24v24H0V0z\" fill=\"none\"/>\n",
              "    <path d=\"M18.56 5.44l.94 2.06.94-2.06 2.06-.94-2.06-.94-.94-2.06-.94 2.06-2.06.94zm-11 1L8.5 8.5l.94-2.06 2.06-.94-2.06-.94L8.5 2.5l-.94 2.06-2.06.94zm10 10l.94 2.06.94-2.06 2.06-.94-2.06-.94-.94-2.06-.94 2.06-2.06.94z\"/><path d=\"M17.41 7.96l-1.37-1.37c-.4-.4-.92-.59-1.43-.59-.52 0-1.04.2-1.43.59L10.3 9.45l-7.72 7.72c-.78.78-.78 2.05 0 2.83L4 21.41c.39.39.9.59 1.41.59.51 0 1.02-.2 1.41-.59l7.78-7.78 2.81-2.81c.8-.78.8-2.07 0-2.86zM5.41 20L4 18.59l7.72-7.72 1.47 1.35L5.41 20z\"/>\n",
              "  </svg>\n",
              "      </button>\n",
              "      \n",
              "  <style>\n",
              "    .colab-df-container {\n",
              "      display:flex;\n",
              "      flex-wrap:wrap;\n",
              "      gap: 12px;\n",
              "    }\n",
              "\n",
              "    .colab-df-convert {\n",
              "      background-color: #E8F0FE;\n",
              "      border: none;\n",
              "      border-radius: 50%;\n",
              "      cursor: pointer;\n",
              "      display: none;\n",
              "      fill: #1967D2;\n",
              "      height: 32px;\n",
              "      padding: 0 0 0 0;\n",
              "      width: 32px;\n",
              "    }\n",
              "\n",
              "    .colab-df-convert:hover {\n",
              "      background-color: #E2EBFA;\n",
              "      box-shadow: 0px 1px 2px rgba(60, 64, 67, 0.3), 0px 1px 3px 1px rgba(60, 64, 67, 0.15);\n",
              "      fill: #174EA6;\n",
              "    }\n",
              "\n",
              "    [theme=dark] .colab-df-convert {\n",
              "      background-color: #3B4455;\n",
              "      fill: #D2E3FC;\n",
              "    }\n",
              "\n",
              "    [theme=dark] .colab-df-convert:hover {\n",
              "      background-color: #434B5C;\n",
              "      box-shadow: 0px 1px 3px 1px rgba(0, 0, 0, 0.15);\n",
              "      filter: drop-shadow(0px 1px 2px rgba(0, 0, 0, 0.3));\n",
              "      fill: #FFFFFF;\n",
              "    }\n",
              "  </style>\n",
              "\n",
              "      <script>\n",
              "        const buttonEl =\n",
              "          document.querySelector('#df-7f36b9f3-856a-452d-ad1b-828b1b7211c5 button.colab-df-convert');\n",
              "        buttonEl.style.display =\n",
              "          google.colab.kernel.accessAllowed ? 'block' : 'none';\n",
              "\n",
              "        async function convertToInteractive(key) {\n",
              "          const element = document.querySelector('#df-7f36b9f3-856a-452d-ad1b-828b1b7211c5');\n",
              "          const dataTable =\n",
              "            await google.colab.kernel.invokeFunction('convertToInteractive',\n",
              "                                                     [key], {});\n",
              "          if (!dataTable) return;\n",
              "\n",
              "          const docLinkHtml = 'Like what you see? Visit the ' +\n",
              "            '<a target=\"_blank\" href=https://colab.research.google.com/notebooks/data_table.ipynb>data table notebook</a>'\n",
              "            + ' to learn more about interactive tables.';\n",
              "          element.innerHTML = '';\n",
              "          dataTable['output_type'] = 'display_data';\n",
              "          await google.colab.output.renderOutput(dataTable, element);\n",
              "          const docLink = document.createElement('div');\n",
              "          docLink.innerHTML = docLinkHtml;\n",
              "          element.appendChild(docLink);\n",
              "        }\n",
              "      </script>\n",
              "    </div>\n",
              "  </div>\n",
              "  "
            ]
          },
          "metadata": {},
          "execution_count": 136
        }
      ]
    },
    {
      "cell_type": "markdown",
      "metadata": {
        "id": "nF3b4VghT1bM"
      },
      "source": [
        "##Check value counts corresponding to target variable."
      ]
    },
    {
      "cell_type": "code",
      "execution_count": null,
      "metadata": {
        "colab": {
          "base_uri": "https://localhost:8080/"
        },
        "id": "AMbJIxF1RcYY",
        "outputId": "79767d7b-7bbc-4ae0-95cd-a0786d3ae902"
      },
      "outputs": [
        {
          "output_type": "execute_result",
          "data": {
            "text/plain": [
              "0    417959\n",
              "1    318418\n",
              "Name: Ad_Supported, dtype: int64"
            ]
          },
          "metadata": {},
          "execution_count": 137
        }
      ],
      "source": [
        "# No of counts corresponding to target variable\n",
        "\n",
        "data[\"Ad_Supported\"].value_counts()"
      ]
    },
    {
      "cell_type": "markdown",
      "source": [
        "#Separating input and target variables"
      ],
      "metadata": {
        "id": "HaRSk_qCzDye"
      }
    },
    {
      "cell_type": "code",
      "execution_count": null,
      "metadata": {
        "id": "ZGizLuUrRcWX"
      },
      "outputs": [],
      "source": [
        "#Separating the input and response variable\n",
        "\n",
        "X = data.iloc[:, :-3] # X = independent variables\n",
        "y = data.iloc[:, -3] # y = target and response variable"
      ]
    },
    {
      "cell_type": "code",
      "execution_count": null,
      "metadata": {
        "colab": {
          "base_uri": "https://localhost:8080/",
          "height": 206
        },
        "id": "9G8gKLMARcPE",
        "outputId": "a091cabd-70ed-4483-a8a1-5962e69978f3"
      },
      "outputs": [
        {
          "output_type": "execute_result",
          "data": {
            "text/plain": [
              "   Minimum_Installs  Maximum_Installs  Price\n",
              "0                10                15      0\n",
              "2                50                58      0\n",
              "3                10                19      0\n",
              "4               100               478      0\n",
              "6              1000              2567      0"
            ],
            "text/html": [
              "\n",
              "  <div id=\"df-45a90d13-da21-430f-a689-133447a18302\">\n",
              "    <div class=\"colab-df-container\">\n",
              "      <div>\n",
              "<style scoped>\n",
              "    .dataframe tbody tr th:only-of-type {\n",
              "        vertical-align: middle;\n",
              "    }\n",
              "\n",
              "    .dataframe tbody tr th {\n",
              "        vertical-align: top;\n",
              "    }\n",
              "\n",
              "    .dataframe thead th {\n",
              "        text-align: right;\n",
              "    }\n",
              "</style>\n",
              "<table border=\"1\" class=\"dataframe\">\n",
              "  <thead>\n",
              "    <tr style=\"text-align: right;\">\n",
              "      <th></th>\n",
              "      <th>Minimum_Installs</th>\n",
              "      <th>Maximum_Installs</th>\n",
              "      <th>Price</th>\n",
              "    </tr>\n",
              "  </thead>\n",
              "  <tbody>\n",
              "    <tr>\n",
              "      <th>0</th>\n",
              "      <td>10</td>\n",
              "      <td>15</td>\n",
              "      <td>0</td>\n",
              "    </tr>\n",
              "    <tr>\n",
              "      <th>2</th>\n",
              "      <td>50</td>\n",
              "      <td>58</td>\n",
              "      <td>0</td>\n",
              "    </tr>\n",
              "    <tr>\n",
              "      <th>3</th>\n",
              "      <td>10</td>\n",
              "      <td>19</td>\n",
              "      <td>0</td>\n",
              "    </tr>\n",
              "    <tr>\n",
              "      <th>4</th>\n",
              "      <td>100</td>\n",
              "      <td>478</td>\n",
              "      <td>0</td>\n",
              "    </tr>\n",
              "    <tr>\n",
              "      <th>6</th>\n",
              "      <td>1000</td>\n",
              "      <td>2567</td>\n",
              "      <td>0</td>\n",
              "    </tr>\n",
              "  </tbody>\n",
              "</table>\n",
              "</div>\n",
              "      <button class=\"colab-df-convert\" onclick=\"convertToInteractive('df-45a90d13-da21-430f-a689-133447a18302')\"\n",
              "              title=\"Convert this dataframe to an interactive table.\"\n",
              "              style=\"display:none;\">\n",
              "        \n",
              "  <svg xmlns=\"http://www.w3.org/2000/svg\" height=\"24px\"viewBox=\"0 0 24 24\"\n",
              "       width=\"24px\">\n",
              "    <path d=\"M0 0h24v24H0V0z\" fill=\"none\"/>\n",
              "    <path d=\"M18.56 5.44l.94 2.06.94-2.06 2.06-.94-2.06-.94-.94-2.06-.94 2.06-2.06.94zm-11 1L8.5 8.5l.94-2.06 2.06-.94-2.06-.94L8.5 2.5l-.94 2.06-2.06.94zm10 10l.94 2.06.94-2.06 2.06-.94-2.06-.94-.94-2.06-.94 2.06-2.06.94z\"/><path d=\"M17.41 7.96l-1.37-1.37c-.4-.4-.92-.59-1.43-.59-.52 0-1.04.2-1.43.59L10.3 9.45l-7.72 7.72c-.78.78-.78 2.05 0 2.83L4 21.41c.39.39.9.59 1.41.59.51 0 1.02-.2 1.41-.59l7.78-7.78 2.81-2.81c.8-.78.8-2.07 0-2.86zM5.41 20L4 18.59l7.72-7.72 1.47 1.35L5.41 20z\"/>\n",
              "  </svg>\n",
              "      </button>\n",
              "      \n",
              "  <style>\n",
              "    .colab-df-container {\n",
              "      display:flex;\n",
              "      flex-wrap:wrap;\n",
              "      gap: 12px;\n",
              "    }\n",
              "\n",
              "    .colab-df-convert {\n",
              "      background-color: #E8F0FE;\n",
              "      border: none;\n",
              "      border-radius: 50%;\n",
              "      cursor: pointer;\n",
              "      display: none;\n",
              "      fill: #1967D2;\n",
              "      height: 32px;\n",
              "      padding: 0 0 0 0;\n",
              "      width: 32px;\n",
              "    }\n",
              "\n",
              "    .colab-df-convert:hover {\n",
              "      background-color: #E2EBFA;\n",
              "      box-shadow: 0px 1px 2px rgba(60, 64, 67, 0.3), 0px 1px 3px 1px rgba(60, 64, 67, 0.15);\n",
              "      fill: #174EA6;\n",
              "    }\n",
              "\n",
              "    [theme=dark] .colab-df-convert {\n",
              "      background-color: #3B4455;\n",
              "      fill: #D2E3FC;\n",
              "    }\n",
              "\n",
              "    [theme=dark] .colab-df-convert:hover {\n",
              "      background-color: #434B5C;\n",
              "      box-shadow: 0px 1px 3px 1px rgba(0, 0, 0, 0.15);\n",
              "      filter: drop-shadow(0px 1px 2px rgba(0, 0, 0, 0.3));\n",
              "      fill: #FFFFFF;\n",
              "    }\n",
              "  </style>\n",
              "\n",
              "      <script>\n",
              "        const buttonEl =\n",
              "          document.querySelector('#df-45a90d13-da21-430f-a689-133447a18302 button.colab-df-convert');\n",
              "        buttonEl.style.display =\n",
              "          google.colab.kernel.accessAllowed ? 'block' : 'none';\n",
              "\n",
              "        async function convertToInteractive(key) {\n",
              "          const element = document.querySelector('#df-45a90d13-da21-430f-a689-133447a18302');\n",
              "          const dataTable =\n",
              "            await google.colab.kernel.invokeFunction('convertToInteractive',\n",
              "                                                     [key], {});\n",
              "          if (!dataTable) return;\n",
              "\n",
              "          const docLinkHtml = 'Like what you see? Visit the ' +\n",
              "            '<a target=\"_blank\" href=https://colab.research.google.com/notebooks/data_table.ipynb>data table notebook</a>'\n",
              "            + ' to learn more about interactive tables.';\n",
              "          element.innerHTML = '';\n",
              "          dataTable['output_type'] = 'display_data';\n",
              "          await google.colab.output.renderOutput(dataTable, element);\n",
              "          const docLink = document.createElement('div');\n",
              "          docLink.innerHTML = docLinkHtml;\n",
              "          element.appendChild(docLink);\n",
              "        }\n",
              "      </script>\n",
              "    </div>\n",
              "  </div>\n",
              "  "
            ]
          },
          "metadata": {},
          "execution_count": 139
        }
      ],
      "source": [
        "X.head(5)\n"
      ]
    },
    {
      "cell_type": "code",
      "execution_count": null,
      "metadata": {
        "colab": {
          "base_uri": "https://localhost:8080/"
        },
        "id": "DGnlwIQmVaOl",
        "outputId": "d25d6380-74f6-4233-835a-5d0b4d82afd4"
      },
      "outputs": [
        {
          "output_type": "execute_result",
          "data": {
            "text/plain": [
              "0    0\n",
              "2    0\n",
              "3    1\n",
              "4    0\n",
              "6    1\n",
              "Name: Ad_Supported, dtype: int64"
            ]
          },
          "metadata": {},
          "execution_count": 140
        }
      ],
      "source": [
        "y.head()"
      ]
    },
    {
      "cell_type": "markdown",
      "source": [
        "#Train-test split((means the data in the testing set already contains known values for the attribute that you want to predict, it is easy to determine whether the model guesses are correct)"
      ],
      "metadata": {
        "id": "opj5w1ZszHn4"
      }
    },
    {
      "cell_type": "code",
      "execution_count": null,
      "metadata": {
        "colab": {
          "base_uri": "https://localhost:8080/",
          "height": 206
        },
        "id": "KTdO4WhUVaLB",
        "outputId": "db6211d8-13d3-4fc6-d4ce-9b394ad6db61"
      },
      "outputs": [
        {
          "output_type": "execute_result",
          "data": {
            "text/plain": [
              "        Minimum_Installs  Maximum_Installs  Price\n",
              "586648                50                93      0\n",
              "386365              1000              4810      0\n",
              "798383                10                33      0\n",
              "608338               100               264      0\n",
              "750948               500               707      0"
            ],
            "text/html": [
              "\n",
              "  <div id=\"df-ecf358cd-7762-4533-bbaf-ceeb7def1939\">\n",
              "    <div class=\"colab-df-container\">\n",
              "      <div>\n",
              "<style scoped>\n",
              "    .dataframe tbody tr th:only-of-type {\n",
              "        vertical-align: middle;\n",
              "    }\n",
              "\n",
              "    .dataframe tbody tr th {\n",
              "        vertical-align: top;\n",
              "    }\n",
              "\n",
              "    .dataframe thead th {\n",
              "        text-align: right;\n",
              "    }\n",
              "</style>\n",
              "<table border=\"1\" class=\"dataframe\">\n",
              "  <thead>\n",
              "    <tr style=\"text-align: right;\">\n",
              "      <th></th>\n",
              "      <th>Minimum_Installs</th>\n",
              "      <th>Maximum_Installs</th>\n",
              "      <th>Price</th>\n",
              "    </tr>\n",
              "  </thead>\n",
              "  <tbody>\n",
              "    <tr>\n",
              "      <th>586648</th>\n",
              "      <td>50</td>\n",
              "      <td>93</td>\n",
              "      <td>0</td>\n",
              "    </tr>\n",
              "    <tr>\n",
              "      <th>386365</th>\n",
              "      <td>1000</td>\n",
              "      <td>4810</td>\n",
              "      <td>0</td>\n",
              "    </tr>\n",
              "    <tr>\n",
              "      <th>798383</th>\n",
              "      <td>10</td>\n",
              "      <td>33</td>\n",
              "      <td>0</td>\n",
              "    </tr>\n",
              "    <tr>\n",
              "      <th>608338</th>\n",
              "      <td>100</td>\n",
              "      <td>264</td>\n",
              "      <td>0</td>\n",
              "    </tr>\n",
              "    <tr>\n",
              "      <th>750948</th>\n",
              "      <td>500</td>\n",
              "      <td>707</td>\n",
              "      <td>0</td>\n",
              "    </tr>\n",
              "  </tbody>\n",
              "</table>\n",
              "</div>\n",
              "      <button class=\"colab-df-convert\" onclick=\"convertToInteractive('df-ecf358cd-7762-4533-bbaf-ceeb7def1939')\"\n",
              "              title=\"Convert this dataframe to an interactive table.\"\n",
              "              style=\"display:none;\">\n",
              "        \n",
              "  <svg xmlns=\"http://www.w3.org/2000/svg\" height=\"24px\"viewBox=\"0 0 24 24\"\n",
              "       width=\"24px\">\n",
              "    <path d=\"M0 0h24v24H0V0z\" fill=\"none\"/>\n",
              "    <path d=\"M18.56 5.44l.94 2.06.94-2.06 2.06-.94-2.06-.94-.94-2.06-.94 2.06-2.06.94zm-11 1L8.5 8.5l.94-2.06 2.06-.94-2.06-.94L8.5 2.5l-.94 2.06-2.06.94zm10 10l.94 2.06.94-2.06 2.06-.94-2.06-.94-.94-2.06-.94 2.06-2.06.94z\"/><path d=\"M17.41 7.96l-1.37-1.37c-.4-.4-.92-.59-1.43-.59-.52 0-1.04.2-1.43.59L10.3 9.45l-7.72 7.72c-.78.78-.78 2.05 0 2.83L4 21.41c.39.39.9.59 1.41.59.51 0 1.02-.2 1.41-.59l7.78-7.78 2.81-2.81c.8-.78.8-2.07 0-2.86zM5.41 20L4 18.59l7.72-7.72 1.47 1.35L5.41 20z\"/>\n",
              "  </svg>\n",
              "      </button>\n",
              "      \n",
              "  <style>\n",
              "    .colab-df-container {\n",
              "      display:flex;\n",
              "      flex-wrap:wrap;\n",
              "      gap: 12px;\n",
              "    }\n",
              "\n",
              "    .colab-df-convert {\n",
              "      background-color: #E8F0FE;\n",
              "      border: none;\n",
              "      border-radius: 50%;\n",
              "      cursor: pointer;\n",
              "      display: none;\n",
              "      fill: #1967D2;\n",
              "      height: 32px;\n",
              "      padding: 0 0 0 0;\n",
              "      width: 32px;\n",
              "    }\n",
              "\n",
              "    .colab-df-convert:hover {\n",
              "      background-color: #E2EBFA;\n",
              "      box-shadow: 0px 1px 2px rgba(60, 64, 67, 0.3), 0px 1px 3px 1px rgba(60, 64, 67, 0.15);\n",
              "      fill: #174EA6;\n",
              "    }\n",
              "\n",
              "    [theme=dark] .colab-df-convert {\n",
              "      background-color: #3B4455;\n",
              "      fill: #D2E3FC;\n",
              "    }\n",
              "\n",
              "    [theme=dark] .colab-df-convert:hover {\n",
              "      background-color: #434B5C;\n",
              "      box-shadow: 0px 1px 3px 1px rgba(0, 0, 0, 0.15);\n",
              "      filter: drop-shadow(0px 1px 2px rgba(0, 0, 0, 0.3));\n",
              "      fill: #FFFFFF;\n",
              "    }\n",
              "  </style>\n",
              "\n",
              "      <script>\n",
              "        const buttonEl =\n",
              "          document.querySelector('#df-ecf358cd-7762-4533-bbaf-ceeb7def1939 button.colab-df-convert');\n",
              "        buttonEl.style.display =\n",
              "          google.colab.kernel.accessAllowed ? 'block' : 'none';\n",
              "\n",
              "        async function convertToInteractive(key) {\n",
              "          const element = document.querySelector('#df-ecf358cd-7762-4533-bbaf-ceeb7def1939');\n",
              "          const dataTable =\n",
              "            await google.colab.kernel.invokeFunction('convertToInteractive',\n",
              "                                                     [key], {});\n",
              "          if (!dataTable) return;\n",
              "\n",
              "          const docLinkHtml = 'Like what you see? Visit the ' +\n",
              "            '<a target=\"_blank\" href=https://colab.research.google.com/notebooks/data_table.ipynb>data table notebook</a>'\n",
              "            + ' to learn more about interactive tables.';\n",
              "          element.innerHTML = '';\n",
              "          dataTable['output_type'] = 'display_data';\n",
              "          await google.colab.output.renderOutput(dataTable, element);\n",
              "          const docLink = document.createElement('div');\n",
              "          docLink.innerHTML = docLinkHtml;\n",
              "          element.appendChild(docLink);\n",
              "        }\n",
              "      </script>\n",
              "    </div>\n",
              "  </div>\n",
              "  "
            ]
          },
          "metadata": {},
          "execution_count": 141
        }
      ],
      "source": [
        "# Split train_test data\n",
        "\n",
        "from sklearn.model_selection import train_test_split\n",
        "X_train, X_test, y_train, y_test = train_test_split(X, y, test_size = 0.30, random_state = 3) #0.30 mns our test size is 30%; random state to(get same training set with each run) fix output on multiple runs\n",
        "X_train.head(5)"
      ]
    },
    {
      "cell_type": "markdown",
      "source": [
        "#Sampling"
      ],
      "metadata": {
        "id": "wOTEleTezNQa"
      }
    },
    {
      "cell_type": "code",
      "execution_count": null,
      "metadata": {
        "colab": {
          "base_uri": "https://localhost:8080/"
        },
        "id": "KnTdURv9VaHX",
        "outputId": "f539565c-460e-404f-e198-ee62cffc22b3"
      },
      "outputs": [
        {
          "output_type": "stream",
          "name": "stdout",
          "text": [
            "Before Sampling:\n"
          ]
        },
        {
          "output_type": "execute_result",
          "data": {
            "text/plain": [
              "0    292481\n",
              "1    222982\n",
              "Name: Ad_Supported, dtype: int64"
            ]
          },
          "metadata": {},
          "execution_count": 142
        }
      ],
      "source": [
        "#Summarize class distribution\n",
        "\n",
        "print(\"Before Sampling:\")\n",
        "y_train.value_counts()"
      ]
    },
    {
      "cell_type": "markdown",
      "metadata": {
        "id": "UAcol_dSa-ij"
      },
      "source": [
        "##installing pip"
      ]
    },
    {
      "cell_type": "code",
      "execution_count": null,
      "metadata": {
        "colab": {
          "base_uri": "https://localhost:8080/"
        },
        "id": "0BMEY7nIVaEk",
        "outputId": "9c9adf2c-ed61-45fa-858c-7b67bc585245"
      },
      "outputs": [
        {
          "output_type": "stream",
          "name": "stdout",
          "text": [
            "Requirement already satisfied: imblearn in /usr/local/lib/python3.7/dist-packages (0.0)\n",
            "Requirement already satisfied: imbalanced-learn in /usr/local/lib/python3.7/dist-packages (from imblearn) (0.8.1)\n",
            "Requirement already satisfied: numpy>=1.13.3 in /usr/local/lib/python3.7/dist-packages (from imbalanced-learn->imblearn) (1.21.5)\n",
            "Requirement already satisfied: joblib>=0.11 in /usr/local/lib/python3.7/dist-packages (from imbalanced-learn->imblearn) (1.1.0)\n",
            "Requirement already satisfied: scikit-learn>=0.24 in /usr/local/lib/python3.7/dist-packages (from imbalanced-learn->imblearn) (1.0.2)\n",
            "Requirement already satisfied: scipy>=0.19.1 in /usr/local/lib/python3.7/dist-packages (from imbalanced-learn->imblearn) (1.4.1)\n",
            "Requirement already satisfied: threadpoolctl>=2.0.0 in /usr/local/lib/python3.7/dist-packages (from scikit-learn>=0.24->imbalanced-learn->imblearn) (3.1.0)\n"
          ]
        }
      ],
      "source": [
        "!pip install imblearn # for re-sampling or dealing with imbalanced classes"
      ]
    },
    {
      "cell_type": "markdown",
      "source": [
        "#SMOTE(synthetic minority oversampling technique)"
      ],
      "metadata": {
        "id": "Y7rIJEPl4whB"
      }
    },
    {
      "cell_type": "code",
      "source": [
        "#iMPORTING SMOTE\n",
        "from imblearn.over_sampling import SMOTE\n",
        "SMOTE=SMOTE()"
      ],
      "metadata": {
        "id": "2yL4jcRs1l7E"
      },
      "execution_count": null,
      "outputs": []
    },
    {
      "cell_type": "code",
      "source": [
        "# fit and apply the transform\n",
        "X_train_SMOTE, y_train_SMOTE = SMOTE.fit_resample(X_train, y_train)"
      ],
      "metadata": {
        "id": "8Q8bZJXR1zuH"
      },
      "execution_count": null,
      "outputs": []
    },
    {
      "cell_type": "code",
      "source": [
        "print(\"after SMOTE\")\n",
        "y_train_SMOTE.value_counts()"
      ],
      "metadata": {
        "colab": {
          "base_uri": "https://localhost:8080/"
        },
        "id": "GFThOLq717yX",
        "outputId": "4e1c3458-009d-4783-d130-f22257b6f9fb"
      },
      "execution_count": null,
      "outputs": [
        {
          "output_type": "stream",
          "name": "stdout",
          "text": [
            "after SMOTE\n"
          ]
        },
        {
          "output_type": "execute_result",
          "data": {
            "text/plain": [
              "0    292481\n",
              "1    292481\n",
              "Name: Ad_Supported, dtype: int64"
            ]
          },
          "metadata": {},
          "execution_count": 146
        }
      ]
    },
    {
      "cell_type": "code",
      "source": [
        "y_train_SMOTE.duplicated().sum()"
      ],
      "metadata": {
        "colab": {
          "base_uri": "https://localhost:8080/"
        },
        "id": "5fEDQUA8JvwX",
        "outputId": "dbb2a40c-4caf-454e-b108-74d65d968a8f"
      },
      "execution_count": null,
      "outputs": [
        {
          "output_type": "execute_result",
          "data": {
            "text/plain": [
              "584960"
            ]
          },
          "metadata": {},
          "execution_count": 147
        }
      ]
    },
    {
      "cell_type": "code",
      "source": [
        "y_train_SMOTE.drop_duplicates().sum()"
      ],
      "metadata": {
        "colab": {
          "base_uri": "https://localhost:8080/"
        },
        "id": "ZZW2Vj_vJ5BH",
        "outputId": "17c4ad98-9602-4ba1-b4f2-fa4b893979f3"
      },
      "execution_count": null,
      "outputs": [
        {
          "output_type": "execute_result",
          "data": {
            "text/plain": [
              "1"
            ]
          },
          "metadata": {},
          "execution_count": 148
        }
      ]
    },
    {
      "cell_type": "markdown",
      "source": [
        "#Building classification models."
      ],
      "metadata": {
        "id": "JhWbhfp50E-1"
      }
    },
    {
      "cell_type": "markdown",
      "source": [
        "##logisticRegression :- it is a machine learning classification algorithm that is used tp predict the probability of a categorical dependent variable."
      ],
      "metadata": {
        "id": "vVltK6uGhwT-"
      }
    },
    {
      "cell_type": "code",
      "execution_count": null,
      "metadata": {
        "colab": {
          "base_uri": "https://localhost:8080/"
        },
        "id": "APVZEEBrrh7C",
        "outputId": "5a1987eb-444b-426b-fe4b-79509cdc2945"
      },
      "outputs": [
        {
          "output_type": "stream",
          "name": "stdout",
          "text": [
            "Accuracy of Logistic Regression : 59.224856731578804\n"
          ]
        }
      ],
      "source": [
        "#logisticRegression\n",
        "from sklearn.linear_model import LogisticRegression\n",
        "from sklearn.metrics import accuracy_score\n",
        "\n",
        "model = LogisticRegression()\n",
        "model.fit(X_train_SMOTE, y_train_SMOTE)\n",
        "pred_log = model.predict(X_test)\n",
        "logistic_acc = accuracy_score(y_test, pred_log)*100\n",
        "print(\"Accuracy of Logistic Regression :\", logistic_acc)"
      ]
    },
    {
      "cell_type": "code",
      "execution_count": null,
      "metadata": {
        "colab": {
          "base_uri": "https://localhost:8080/"
        },
        "id": "DF3XZCMdrh4n",
        "outputId": "59e9f994-fa1f-4ec7-9de7-4cec911fd3a4"
      },
      "outputs": [
        {
          "output_type": "stream",
          "name": "stdout",
          "text": [
            "Accuracy of KNN: 53.829544528640106\n"
          ]
        }
      ],
      "source": [
        "#KNN model\n",
        "\n",
        "from sklearn.neighbors import KNeighborsClassifier\n",
        "\n",
        "#fit the model\n",
        "knn = KNeighborsClassifier()\n",
        "knn.fit(X_train_SMOTE, y_train_SMOTE)\n",
        "pred_k = knn.predict(X_test)\n",
        "knn_acc = accuracy_score(y_test, pred_k)*100\n",
        "print(\"Accuracy of KNN:\", knn_acc)"
      ]
    },
    {
      "cell_type": "code",
      "execution_count": null,
      "metadata": {
        "colab": {
          "base_uri": "https://localhost:8080/"
        },
        "id": "D3XLbiKW1Thn",
        "outputId": "ade8897b-ccfc-47d4-fd9d-8f6d5d4d2acb"
      },
      "outputs": [
        {
          "output_type": "stream",
          "name": "stdout",
          "text": [
            "Accuracy of RFC: 57.42958798446455\n"
          ]
        }
      ],
      "source": [
        "# Random ForestClassifier\n",
        "\n",
        "from sklearn.ensemble import RandomForestClassifier\n",
        "\n",
        "#fitting model\n",
        "rfc = RandomForestClassifier()\n",
        "rfc.fit(X_train_SMOTE, y_train_SMOTE)\n",
        "pred_rfc = rfc.predict(X_test)\n",
        "rfc_acc = accuracy_score(y_test, pred_rfc)*100\n",
        "print(\"Accuracy of RFC:\", rfc_acc)"
      ]
    },
    {
      "cell_type": "code",
      "source": [
        "# Naive bayes model(Naive Bayes is a machine learning algorithm we use to solve classification problems.)\n",
        "\n",
        "from sklearn.naive_bayes import GaussianNB\n",
        "\n",
        "# Fit the model\n",
        "model=GaussianNB()\n",
        "gnb = model.fit(X_train_SMOTE, y_train_SMOTE)\n",
        "gnb_predict = gnb.predict(X_test)\n",
        "gnb_acc = accuracy_score(y_test, gnb_predict)*100\n",
        "print(\"Accuracy of GNB:\", gnb_acc)"
      ],
      "metadata": {
        "colab": {
          "base_uri": "https://localhost:8080/"
        },
        "id": "SRgE9Jrfch8H",
        "outputId": "bcfbff23-b770-4951-8148-a8ab82a6518b"
      },
      "execution_count": null,
      "outputs": [
        {
          "output_type": "stream",
          "name": "stdout",
          "text": [
            "Accuracy of GNB: 58.923834614374826\n"
          ]
        }
      ]
    },
    {
      "cell_type": "markdown",
      "source": [
        "By comparing all the above models we get LogisticRegression as best with model for our dataset with 59.22 accuracy"
      ],
      "metadata": {
        "id": "0Hd_28XNlmXt"
      }
    },
    {
      "cell_type": "markdown",
      "source": [
        "#COMPARING ACCURACIES"
      ],
      "metadata": {
        "id": "l0oFz2BbfNzr"
      }
    },
    {
      "cell_type": "code",
      "source": [
        "labels = [\"Logistic Regression\", \"knn\", \"Naive Bayes\", \"Random Forest\"]\n",
        "x = [logistic_acc, knn_acc, gnb_acc, rfc_acc]\n",
        "eval_frame = pd.DataFrame()\n",
        "eval_frame['Model'] = labels\n",
        "eval_frame['train_test_split'] = x\n",
        "eval_frame"
      ],
      "metadata": {
        "colab": {
          "base_uri": "https://localhost:8080/",
          "height": 174
        },
        "id": "5i-wWZ2xeE8-",
        "outputId": "555a35cd-9770-4399-bc3c-63837379d6aa"
      },
      "execution_count": null,
      "outputs": [
        {
          "output_type": "execute_result",
          "data": {
            "text/plain": [
              "                 Model  train_test_split\n",
              "0  Logistic Regression         59.224857\n",
              "1                  knn         53.829545\n",
              "2          Naive Bayes         58.923835\n",
              "3        Random Forest         57.429588"
            ],
            "text/html": [
              "\n",
              "  <div id=\"df-0af8d56a-4c8e-48ce-852e-68df91289cda\">\n",
              "    <div class=\"colab-df-container\">\n",
              "      <div>\n",
              "<style scoped>\n",
              "    .dataframe tbody tr th:only-of-type {\n",
              "        vertical-align: middle;\n",
              "    }\n",
              "\n",
              "    .dataframe tbody tr th {\n",
              "        vertical-align: top;\n",
              "    }\n",
              "\n",
              "    .dataframe thead th {\n",
              "        text-align: right;\n",
              "    }\n",
              "</style>\n",
              "<table border=\"1\" class=\"dataframe\">\n",
              "  <thead>\n",
              "    <tr style=\"text-align: right;\">\n",
              "      <th></th>\n",
              "      <th>Model</th>\n",
              "      <th>train_test_split</th>\n",
              "    </tr>\n",
              "  </thead>\n",
              "  <tbody>\n",
              "    <tr>\n",
              "      <th>0</th>\n",
              "      <td>Logistic Regression</td>\n",
              "      <td>59.224857</td>\n",
              "    </tr>\n",
              "    <tr>\n",
              "      <th>1</th>\n",
              "      <td>knn</td>\n",
              "      <td>53.829545</td>\n",
              "    </tr>\n",
              "    <tr>\n",
              "      <th>2</th>\n",
              "      <td>Naive Bayes</td>\n",
              "      <td>58.923835</td>\n",
              "    </tr>\n",
              "    <tr>\n",
              "      <th>3</th>\n",
              "      <td>Random Forest</td>\n",
              "      <td>57.429588</td>\n",
              "    </tr>\n",
              "  </tbody>\n",
              "</table>\n",
              "</div>\n",
              "      <button class=\"colab-df-convert\" onclick=\"convertToInteractive('df-0af8d56a-4c8e-48ce-852e-68df91289cda')\"\n",
              "              title=\"Convert this dataframe to an interactive table.\"\n",
              "              style=\"display:none;\">\n",
              "        \n",
              "  <svg xmlns=\"http://www.w3.org/2000/svg\" height=\"24px\"viewBox=\"0 0 24 24\"\n",
              "       width=\"24px\">\n",
              "    <path d=\"M0 0h24v24H0V0z\" fill=\"none\"/>\n",
              "    <path d=\"M18.56 5.44l.94 2.06.94-2.06 2.06-.94-2.06-.94-.94-2.06-.94 2.06-2.06.94zm-11 1L8.5 8.5l.94-2.06 2.06-.94-2.06-.94L8.5 2.5l-.94 2.06-2.06.94zm10 10l.94 2.06.94-2.06 2.06-.94-2.06-.94-.94-2.06-.94 2.06-2.06.94z\"/><path d=\"M17.41 7.96l-1.37-1.37c-.4-.4-.92-.59-1.43-.59-.52 0-1.04.2-1.43.59L10.3 9.45l-7.72 7.72c-.78.78-.78 2.05 0 2.83L4 21.41c.39.39.9.59 1.41.59.51 0 1.02-.2 1.41-.59l7.78-7.78 2.81-2.81c.8-.78.8-2.07 0-2.86zM5.41 20L4 18.59l7.72-7.72 1.47 1.35L5.41 20z\"/>\n",
              "  </svg>\n",
              "      </button>\n",
              "      \n",
              "  <style>\n",
              "    .colab-df-container {\n",
              "      display:flex;\n",
              "      flex-wrap:wrap;\n",
              "      gap: 12px;\n",
              "    }\n",
              "\n",
              "    .colab-df-convert {\n",
              "      background-color: #E8F0FE;\n",
              "      border: none;\n",
              "      border-radius: 50%;\n",
              "      cursor: pointer;\n",
              "      display: none;\n",
              "      fill: #1967D2;\n",
              "      height: 32px;\n",
              "      padding: 0 0 0 0;\n",
              "      width: 32px;\n",
              "    }\n",
              "\n",
              "    .colab-df-convert:hover {\n",
              "      background-color: #E2EBFA;\n",
              "      box-shadow: 0px 1px 2px rgba(60, 64, 67, 0.3), 0px 1px 3px 1px rgba(60, 64, 67, 0.15);\n",
              "      fill: #174EA6;\n",
              "    }\n",
              "\n",
              "    [theme=dark] .colab-df-convert {\n",
              "      background-color: #3B4455;\n",
              "      fill: #D2E3FC;\n",
              "    }\n",
              "\n",
              "    [theme=dark] .colab-df-convert:hover {\n",
              "      background-color: #434B5C;\n",
              "      box-shadow: 0px 1px 3px 1px rgba(0, 0, 0, 0.15);\n",
              "      filter: drop-shadow(0px 1px 2px rgba(0, 0, 0, 0.3));\n",
              "      fill: #FFFFFF;\n",
              "    }\n",
              "  </style>\n",
              "\n",
              "      <script>\n",
              "        const buttonEl =\n",
              "          document.querySelector('#df-0af8d56a-4c8e-48ce-852e-68df91289cda button.colab-df-convert');\n",
              "        buttonEl.style.display =\n",
              "          google.colab.kernel.accessAllowed ? 'block' : 'none';\n",
              "\n",
              "        async function convertToInteractive(key) {\n",
              "          const element = document.querySelector('#df-0af8d56a-4c8e-48ce-852e-68df91289cda');\n",
              "          const dataTable =\n",
              "            await google.colab.kernel.invokeFunction('convertToInteractive',\n",
              "                                                     [key], {});\n",
              "          if (!dataTable) return;\n",
              "\n",
              "          const docLinkHtml = 'Like what you see? Visit the ' +\n",
              "            '<a target=\"_blank\" href=https://colab.research.google.com/notebooks/data_table.ipynb>data table notebook</a>'\n",
              "            + ' to learn more about interactive tables.';\n",
              "          element.innerHTML = '';\n",
              "          dataTable['output_type'] = 'display_data';\n",
              "          await google.colab.output.renderOutput(dataTable, element);\n",
              "          const docLink = document.createElement('div');\n",
              "          docLink.innerHTML = docLinkHtml;\n",
              "          element.appendChild(docLink);\n",
              "        }\n",
              "      </script>\n",
              "    </div>\n",
              "  </div>\n",
              "  "
            ]
          },
          "metadata": {},
          "execution_count": 153
        }
      ]
    },
    {
      "cell_type": "markdown",
      "source": [
        "K-FOLD CROSS VALIDATION\n",
        "(In K-fold Cross-Validation, the training set is randomly split into K (usually between 5 to 10) subsets known as folds. Where K-1 folds are used to train the model and the other fold is used to test the model."
      ],
      "metadata": {
        "id": "Tnz_kee3fap1"
      }
    },
    {
      "cell_type": "code",
      "source": [
        "from sklearn.model_selection import KFold"
      ],
      "metadata": {
        "id": "VVGEDzl9fdUj"
      },
      "execution_count": null,
      "outputs": []
    },
    {
      "cell_type": "code",
      "source": [
        "kfold = KFold(n_splits = 5)"
      ],
      "metadata": {
        "id": "-P3Wu2YbfdRz"
      },
      "execution_count": null,
      "outputs": []
    },
    {
      "cell_type": "code",
      "source": [
        "#Modeling step test differents algorithms\n",
        "\n",
        "classifiers1 = []\n",
        "\n",
        "classifiers1.append(KNeighborsClassifier())\n",
        "classifiers1.append(LogisticRegression())\n",
        "classifiers1.append(GaussianNB())\n",
        "classifiers1.append(RandomForestClassifier())"
      ],
      "metadata": {
        "id": "5UgUpBlYfdPN"
      },
      "execution_count": null,
      "outputs": []
    },
    {
      "cell_type": "code",
      "source": [
        "from sklearn.model_selection import cross_val_score"
      ],
      "metadata": {
        "id": "m9w0nHh-fdMa"
      },
      "execution_count": null,
      "outputs": []
    },
    {
      "cell_type": "code",
      "source": [
        "accuracy_results1 = []\n",
        "for a in classifiers1:\n",
        "  accuracy_results1.append(cross_val_score(a, X_train_SMOTE, y_train_SMOTE, scoring = \"accuracy\", cv = kfold))#Here a is 1st model logistic"
      ],
      "metadata": {
        "id": "joG3uhRgfdJn"
      },
      "execution_count": null,
      "outputs": []
    },
    {
      "cell_type": "code",
      "source": [
        "#folds corresponding to models\n",
        "accuracy_results1"
      ],
      "metadata": {
        "colab": {
          "base_uri": "https://localhost:8080/"
        },
        "id": "5EtC421Cgnl6",
        "outputId": "565ce96d-ad27-48c6-e7d1-145040fa474b"
      },
      "execution_count": null,
      "outputs": [
        {
          "output_type": "execute_result",
          "data": {
            "text/plain": [
              "[array([0.53357038, 0.54544289, 0.53863512, 0.54708869, 0.48395617]),\n",
              " array([0.58988145, 0.58650518, 0.43477332, 0.5878778 , 0.35186167]),\n",
              " array([0.5907362 , 0.58777021, 0.59118572, 0.58957023, 0.33484341]),\n",
              " array([0.56776046, 0.56699119, 0.56891069, 0.56908165, 0.40248051])]"
            ]
          },
          "metadata": {},
          "execution_count": 159
        }
      ]
    },
    {
      "cell_type": "code",
      "source": [
        "accuracy_means1 = []\n",
        "for e in accuracy_results1:\n",
        "  accuracy_means1.append(e.mean()*100)"
      ],
      "metadata": {
        "id": "7fqM-LyTgvu0"
      },
      "execution_count": null,
      "outputs": []
    },
    {
      "cell_type": "code",
      "source": [
        "accuracy_means1"
      ],
      "metadata": {
        "colab": {
          "base_uri": "https://localhost:8080/"
        },
        "id": "DRxx4NV9g2GK",
        "outputId": "8c56d8e7-d317-44c9-bf5d-22a363c5aa26"
      },
      "execution_count": null,
      "outputs": [
        {
          "output_type": "execute_result",
          "data": {
            "text/plain": [
              "[52.97386504833248, 51.01798817241839, 53.88211527174398, 53.504490093057335]"
            ]
          },
          "metadata": {},
          "execution_count": 161
        }
      ]
    },
    {
      "cell_type": "code",
      "source": [
        "eval_frame['kfolds_5'] = accuracy_means1\n",
        "eval_frame"
      ],
      "metadata": {
        "colab": {
          "base_uri": "https://localhost:8080/",
          "height": 174
        },
        "id": "GWmdLhszg6SZ",
        "outputId": "97edb389-757f-4092-c58f-7086005d4992"
      },
      "execution_count": null,
      "outputs": [
        {
          "output_type": "execute_result",
          "data": {
            "text/plain": [
              "                 Model  train_test_split   kfolds_5\n",
              "0  Logistic Regression         59.224857  52.973865\n",
              "1                  knn         53.829545  51.017988\n",
              "2          Naive Bayes         58.923835  53.882115\n",
              "3        Random Forest         57.429588  53.504490"
            ],
            "text/html": [
              "\n",
              "  <div id=\"df-56985a16-eddd-4eca-8ca9-4ad274cfc8ff\">\n",
              "    <div class=\"colab-df-container\">\n",
              "      <div>\n",
              "<style scoped>\n",
              "    .dataframe tbody tr th:only-of-type {\n",
              "        vertical-align: middle;\n",
              "    }\n",
              "\n",
              "    .dataframe tbody tr th {\n",
              "        vertical-align: top;\n",
              "    }\n",
              "\n",
              "    .dataframe thead th {\n",
              "        text-align: right;\n",
              "    }\n",
              "</style>\n",
              "<table border=\"1\" class=\"dataframe\">\n",
              "  <thead>\n",
              "    <tr style=\"text-align: right;\">\n",
              "      <th></th>\n",
              "      <th>Model</th>\n",
              "      <th>train_test_split</th>\n",
              "      <th>kfolds_5</th>\n",
              "    </tr>\n",
              "  </thead>\n",
              "  <tbody>\n",
              "    <tr>\n",
              "      <th>0</th>\n",
              "      <td>Logistic Regression</td>\n",
              "      <td>59.224857</td>\n",
              "      <td>52.973865</td>\n",
              "    </tr>\n",
              "    <tr>\n",
              "      <th>1</th>\n",
              "      <td>knn</td>\n",
              "      <td>53.829545</td>\n",
              "      <td>51.017988</td>\n",
              "    </tr>\n",
              "    <tr>\n",
              "      <th>2</th>\n",
              "      <td>Naive Bayes</td>\n",
              "      <td>58.923835</td>\n",
              "      <td>53.882115</td>\n",
              "    </tr>\n",
              "    <tr>\n",
              "      <th>3</th>\n",
              "      <td>Random Forest</td>\n",
              "      <td>57.429588</td>\n",
              "      <td>53.504490</td>\n",
              "    </tr>\n",
              "  </tbody>\n",
              "</table>\n",
              "</div>\n",
              "      <button class=\"colab-df-convert\" onclick=\"convertToInteractive('df-56985a16-eddd-4eca-8ca9-4ad274cfc8ff')\"\n",
              "              title=\"Convert this dataframe to an interactive table.\"\n",
              "              style=\"display:none;\">\n",
              "        \n",
              "  <svg xmlns=\"http://www.w3.org/2000/svg\" height=\"24px\"viewBox=\"0 0 24 24\"\n",
              "       width=\"24px\">\n",
              "    <path d=\"M0 0h24v24H0V0z\" fill=\"none\"/>\n",
              "    <path d=\"M18.56 5.44l.94 2.06.94-2.06 2.06-.94-2.06-.94-.94-2.06-.94 2.06-2.06.94zm-11 1L8.5 8.5l.94-2.06 2.06-.94-2.06-.94L8.5 2.5l-.94 2.06-2.06.94zm10 10l.94 2.06.94-2.06 2.06-.94-2.06-.94-.94-2.06-.94 2.06-2.06.94z\"/><path d=\"M17.41 7.96l-1.37-1.37c-.4-.4-.92-.59-1.43-.59-.52 0-1.04.2-1.43.59L10.3 9.45l-7.72 7.72c-.78.78-.78 2.05 0 2.83L4 21.41c.39.39.9.59 1.41.59.51 0 1.02-.2 1.41-.59l7.78-7.78 2.81-2.81c.8-.78.8-2.07 0-2.86zM5.41 20L4 18.59l7.72-7.72 1.47 1.35L5.41 20z\"/>\n",
              "  </svg>\n",
              "      </button>\n",
              "      \n",
              "  <style>\n",
              "    .colab-df-container {\n",
              "      display:flex;\n",
              "      flex-wrap:wrap;\n",
              "      gap: 12px;\n",
              "    }\n",
              "\n",
              "    .colab-df-convert {\n",
              "      background-color: #E8F0FE;\n",
              "      border: none;\n",
              "      border-radius: 50%;\n",
              "      cursor: pointer;\n",
              "      display: none;\n",
              "      fill: #1967D2;\n",
              "      height: 32px;\n",
              "      padding: 0 0 0 0;\n",
              "      width: 32px;\n",
              "    }\n",
              "\n",
              "    .colab-df-convert:hover {\n",
              "      background-color: #E2EBFA;\n",
              "      box-shadow: 0px 1px 2px rgba(60, 64, 67, 0.3), 0px 1px 3px 1px rgba(60, 64, 67, 0.15);\n",
              "      fill: #174EA6;\n",
              "    }\n",
              "\n",
              "    [theme=dark] .colab-df-convert {\n",
              "      background-color: #3B4455;\n",
              "      fill: #D2E3FC;\n",
              "    }\n",
              "\n",
              "    [theme=dark] .colab-df-convert:hover {\n",
              "      background-color: #434B5C;\n",
              "      box-shadow: 0px 1px 3px 1px rgba(0, 0, 0, 0.15);\n",
              "      filter: drop-shadow(0px 1px 2px rgba(0, 0, 0, 0.3));\n",
              "      fill: #FFFFFF;\n",
              "    }\n",
              "  </style>\n",
              "\n",
              "      <script>\n",
              "        const buttonEl =\n",
              "          document.querySelector('#df-56985a16-eddd-4eca-8ca9-4ad274cfc8ff button.colab-df-convert');\n",
              "        buttonEl.style.display =\n",
              "          google.colab.kernel.accessAllowed ? 'block' : 'none';\n",
              "\n",
              "        async function convertToInteractive(key) {\n",
              "          const element = document.querySelector('#df-56985a16-eddd-4eca-8ca9-4ad274cfc8ff');\n",
              "          const dataTable =\n",
              "            await google.colab.kernel.invokeFunction('convertToInteractive',\n",
              "                                                     [key], {});\n",
              "          if (!dataTable) return;\n",
              "\n",
              "          const docLinkHtml = 'Like what you see? Visit the ' +\n",
              "            '<a target=\"_blank\" href=https://colab.research.google.com/notebooks/data_table.ipynb>data table notebook</a>'\n",
              "            + ' to learn more about interactive tables.';\n",
              "          element.innerHTML = '';\n",
              "          dataTable['output_type'] = 'display_data';\n",
              "          await google.colab.output.renderOutput(dataTable, element);\n",
              "          const docLink = document.createElement('div');\n",
              "          docLink.innerHTML = docLinkHtml;\n",
              "          element.appendChild(docLink);\n",
              "        }\n",
              "      </script>\n",
              "    </div>\n",
              "  </div>\n",
              "  "
            ]
          },
          "metadata": {},
          "execution_count": 162
        }
      ]
    },
    {
      "cell_type": "markdown",
      "source": [
        ""
      ],
      "metadata": {
        "id": "ruDOSYODkhvM"
      }
    },
    {
      "cell_type": "markdown",
      "source": [
        "#STRATIFIED K FOLD(Stratified k-fold means that you also look at the relative distribution of your classes: if one class/label appears more often than another, stratified k-fold will make sure to represent that imbalance when it creates batches.)"
      ],
      "metadata": {
        "id": "nGOvortuhDGu"
      }
    },
    {
      "cell_type": "code",
      "source": [
        "from sklearn.model_selection import StratifiedKFold"
      ],
      "metadata": {
        "id": "neVUgPJOhFDJ"
      },
      "execution_count": null,
      "outputs": []
    },
    {
      "cell_type": "code",
      "source": [
        "Stratifiedkfold = StratifiedKFold(n_splits = 5)"
      ],
      "metadata": {
        "id": "Wo8wOM0OhNPH"
      },
      "execution_count": null,
      "outputs": []
    },
    {
      "cell_type": "code",
      "source": [
        "# Modeling step Test differents algorithms \n",
        "classifiers_4 = []\n",
        "classifiers_4.append(KNeighborsClassifier())\n",
        "classifiers_4.append(LogisticRegression())\n",
        "classifiers_4.append(GaussianNB())\n",
        "classifiers_4.append(RandomForestClassifier())\n",
        "accuracy_results_4 = []\n",
        "for classifier in classifiers_4 :\n",
        "    accuracy_results_4.append(cross_val_score(classifier, X_train_SMOTE,y_train_SMOTE, scoring = \"accuracy\", cv = Stratifiedkfold))\n",
        "accuracy_means_4 = []\n",
        "for accuracy_result in accuracy_results_4:\n",
        "    accuracy_means_4.append(accuracy_result.mean()*100)\n",
        "accuracy_means_4\n",
        "eval_frame['Stratifiedkfold_5']=accuracy_means_4\n",
        "eval_frame"
      ],
      "metadata": {
        "colab": {
          "base_uri": "https://localhost:8080/",
          "height": 174
        },
        "id": "TJfG8q4phNL9",
        "outputId": "ad97d69b-ca11-43d0-b4a0-290cc968027b"
      },
      "execution_count": null,
      "outputs": [
        {
          "output_type": "execute_result",
          "data": {
            "text/plain": [
              "                 Model  train_test_split   kfolds_5  Stratifiedkfold_5\n",
              "0  Logistic Regression         59.224857  52.973865          52.880016\n",
              "1                  knn         53.829545  51.017988          56.029452\n",
              "2          Naive Bayes         58.923835  53.882115          54.376866\n",
              "3        Random Forest         57.429588  53.504490          56.071677"
            ],
            "text/html": [
              "\n",
              "  <div id=\"df-8551186c-18e2-48ae-9b94-96a6a0809937\">\n",
              "    <div class=\"colab-df-container\">\n",
              "      <div>\n",
              "<style scoped>\n",
              "    .dataframe tbody tr th:only-of-type {\n",
              "        vertical-align: middle;\n",
              "    }\n",
              "\n",
              "    .dataframe tbody tr th {\n",
              "        vertical-align: top;\n",
              "    }\n",
              "\n",
              "    .dataframe thead th {\n",
              "        text-align: right;\n",
              "    }\n",
              "</style>\n",
              "<table border=\"1\" class=\"dataframe\">\n",
              "  <thead>\n",
              "    <tr style=\"text-align: right;\">\n",
              "      <th></th>\n",
              "      <th>Model</th>\n",
              "      <th>train_test_split</th>\n",
              "      <th>kfolds_5</th>\n",
              "      <th>Stratifiedkfold_5</th>\n",
              "    </tr>\n",
              "  </thead>\n",
              "  <tbody>\n",
              "    <tr>\n",
              "      <th>0</th>\n",
              "      <td>Logistic Regression</td>\n",
              "      <td>59.224857</td>\n",
              "      <td>52.973865</td>\n",
              "      <td>52.880016</td>\n",
              "    </tr>\n",
              "    <tr>\n",
              "      <th>1</th>\n",
              "      <td>knn</td>\n",
              "      <td>53.829545</td>\n",
              "      <td>51.017988</td>\n",
              "      <td>56.029452</td>\n",
              "    </tr>\n",
              "    <tr>\n",
              "      <th>2</th>\n",
              "      <td>Naive Bayes</td>\n",
              "      <td>58.923835</td>\n",
              "      <td>53.882115</td>\n",
              "      <td>54.376866</td>\n",
              "    </tr>\n",
              "    <tr>\n",
              "      <th>3</th>\n",
              "      <td>Random Forest</td>\n",
              "      <td>57.429588</td>\n",
              "      <td>53.504490</td>\n",
              "      <td>56.071677</td>\n",
              "    </tr>\n",
              "  </tbody>\n",
              "</table>\n",
              "</div>\n",
              "      <button class=\"colab-df-convert\" onclick=\"convertToInteractive('df-8551186c-18e2-48ae-9b94-96a6a0809937')\"\n",
              "              title=\"Convert this dataframe to an interactive table.\"\n",
              "              style=\"display:none;\">\n",
              "        \n",
              "  <svg xmlns=\"http://www.w3.org/2000/svg\" height=\"24px\"viewBox=\"0 0 24 24\"\n",
              "       width=\"24px\">\n",
              "    <path d=\"M0 0h24v24H0V0z\" fill=\"none\"/>\n",
              "    <path d=\"M18.56 5.44l.94 2.06.94-2.06 2.06-.94-2.06-.94-.94-2.06-.94 2.06-2.06.94zm-11 1L8.5 8.5l.94-2.06 2.06-.94-2.06-.94L8.5 2.5l-.94 2.06-2.06.94zm10 10l.94 2.06.94-2.06 2.06-.94-2.06-.94-.94-2.06-.94 2.06-2.06.94z\"/><path d=\"M17.41 7.96l-1.37-1.37c-.4-.4-.92-.59-1.43-.59-.52 0-1.04.2-1.43.59L10.3 9.45l-7.72 7.72c-.78.78-.78 2.05 0 2.83L4 21.41c.39.39.9.59 1.41.59.51 0 1.02-.2 1.41-.59l7.78-7.78 2.81-2.81c.8-.78.8-2.07 0-2.86zM5.41 20L4 18.59l7.72-7.72 1.47 1.35L5.41 20z\"/>\n",
              "  </svg>\n",
              "      </button>\n",
              "      \n",
              "  <style>\n",
              "    .colab-df-container {\n",
              "      display:flex;\n",
              "      flex-wrap:wrap;\n",
              "      gap: 12px;\n",
              "    }\n",
              "\n",
              "    .colab-df-convert {\n",
              "      background-color: #E8F0FE;\n",
              "      border: none;\n",
              "      border-radius: 50%;\n",
              "      cursor: pointer;\n",
              "      display: none;\n",
              "      fill: #1967D2;\n",
              "      height: 32px;\n",
              "      padding: 0 0 0 0;\n",
              "      width: 32px;\n",
              "    }\n",
              "\n",
              "    .colab-df-convert:hover {\n",
              "      background-color: #E2EBFA;\n",
              "      box-shadow: 0px 1px 2px rgba(60, 64, 67, 0.3), 0px 1px 3px 1px rgba(60, 64, 67, 0.15);\n",
              "      fill: #174EA6;\n",
              "    }\n",
              "\n",
              "    [theme=dark] .colab-df-convert {\n",
              "      background-color: #3B4455;\n",
              "      fill: #D2E3FC;\n",
              "    }\n",
              "\n",
              "    [theme=dark] .colab-df-convert:hover {\n",
              "      background-color: #434B5C;\n",
              "      box-shadow: 0px 1px 3px 1px rgba(0, 0, 0, 0.15);\n",
              "      filter: drop-shadow(0px 1px 2px rgba(0, 0, 0, 0.3));\n",
              "      fill: #FFFFFF;\n",
              "    }\n",
              "  </style>\n",
              "\n",
              "      <script>\n",
              "        const buttonEl =\n",
              "          document.querySelector('#df-8551186c-18e2-48ae-9b94-96a6a0809937 button.colab-df-convert');\n",
              "        buttonEl.style.display =\n",
              "          google.colab.kernel.accessAllowed ? 'block' : 'none';\n",
              "\n",
              "        async function convertToInteractive(key) {\n",
              "          const element = document.querySelector('#df-8551186c-18e2-48ae-9b94-96a6a0809937');\n",
              "          const dataTable =\n",
              "            await google.colab.kernel.invokeFunction('convertToInteractive',\n",
              "                                                     [key], {});\n",
              "          if (!dataTable) return;\n",
              "\n",
              "          const docLinkHtml = 'Like what you see? Visit the ' +\n",
              "            '<a target=\"_blank\" href=https://colab.research.google.com/notebooks/data_table.ipynb>data table notebook</a>'\n",
              "            + ' to learn more about interactive tables.';\n",
              "          element.innerHTML = '';\n",
              "          dataTable['output_type'] = 'display_data';\n",
              "          await google.colab.output.renderOutput(dataTable, element);\n",
              "          const docLink = document.createElement('div');\n",
              "          docLink.innerHTML = docLinkHtml;\n",
              "          element.appendChild(docLink);\n",
              "        }\n",
              "      </script>\n",
              "    </div>\n",
              "  </div>\n",
              "  "
            ]
          },
          "metadata": {},
          "execution_count": 165
        }
      ]
    },
    {
      "cell_type": "code",
      "source": [
        "from sklearn.model_selection import ShuffleSplit"
      ],
      "metadata": {
        "id": "p5Ck4NGdhNIq"
      },
      "execution_count": null,
      "outputs": []
    },
    {
      "cell_type": "code",
      "source": [
        "kfold = ShuffleSplit(n_splits=5,test_size=0.3)\n",
        "# Modeling step Test differents algorithms \n",
        "classifiers_2 = []\n",
        "classifiers_2.append(KNeighborsClassifier())\n",
        "classifiers_2.append(LogisticRegression())\n",
        "classifiers_2.append(GaussianNB())\n",
        "classifiers_2.append(RandomForestClassifier())\n",
        "accuracy_results_2 = []\n",
        "for classifier in classifiers_2 :\n",
        "    accuracy_results_2.append(cross_val_score(classifier, X_train,y_train, scoring = \"accuracy\", cv = kfold))\n",
        "accuracy_means_2 = []\n",
        "for accuracy_result in accuracy_results_2:\n",
        "    accuracy_means_2.append(accuracy_result.mean()*100)\n",
        "accuracy_means_2\n",
        "eval_frame['RRTestTrainSplits_5']=accuracy_means_2\n",
        "eval_frame.round(2)"
      ],
      "metadata": {
        "colab": {
          "base_uri": "https://localhost:8080/",
          "height": 174
        },
        "id": "mG6L6Cz_hNE0",
        "outputId": "913a67dd-b10f-4a99-c209-e887653b3a5f"
      },
      "execution_count": null,
      "outputs": [
        {
          "output_type": "execute_result",
          "data": {
            "text/plain": [
              "                 Model  train_test_split  kfolds_5  Stratifiedkfold_5  \\\n",
              "0  Logistic Regression             59.22     52.97              52.88   \n",
              "1                  knn             53.83     51.02              56.03   \n",
              "2          Naive Bayes             58.92     53.88              54.38   \n",
              "3        Random Forest             57.43     53.50              56.07   \n",
              "\n",
              "   RRTestTrainSplits_5  \n",
              "0                53.69  \n",
              "1                58.80  \n",
              "2                58.54  \n",
              "3                58.12  "
            ],
            "text/html": [
              "\n",
              "  <div id=\"df-230543c1-0631-4464-8fa7-c8a5bf48c1f3\">\n",
              "    <div class=\"colab-df-container\">\n",
              "      <div>\n",
              "<style scoped>\n",
              "    .dataframe tbody tr th:only-of-type {\n",
              "        vertical-align: middle;\n",
              "    }\n",
              "\n",
              "    .dataframe tbody tr th {\n",
              "        vertical-align: top;\n",
              "    }\n",
              "\n",
              "    .dataframe thead th {\n",
              "        text-align: right;\n",
              "    }\n",
              "</style>\n",
              "<table border=\"1\" class=\"dataframe\">\n",
              "  <thead>\n",
              "    <tr style=\"text-align: right;\">\n",
              "      <th></th>\n",
              "      <th>Model</th>\n",
              "      <th>train_test_split</th>\n",
              "      <th>kfolds_5</th>\n",
              "      <th>Stratifiedkfold_5</th>\n",
              "      <th>RRTestTrainSplits_5</th>\n",
              "    </tr>\n",
              "  </thead>\n",
              "  <tbody>\n",
              "    <tr>\n",
              "      <th>0</th>\n",
              "      <td>Logistic Regression</td>\n",
              "      <td>59.22</td>\n",
              "      <td>52.97</td>\n",
              "      <td>52.88</td>\n",
              "      <td>53.69</td>\n",
              "    </tr>\n",
              "    <tr>\n",
              "      <th>1</th>\n",
              "      <td>knn</td>\n",
              "      <td>53.83</td>\n",
              "      <td>51.02</td>\n",
              "      <td>56.03</td>\n",
              "      <td>58.80</td>\n",
              "    </tr>\n",
              "    <tr>\n",
              "      <th>2</th>\n",
              "      <td>Naive Bayes</td>\n",
              "      <td>58.92</td>\n",
              "      <td>53.88</td>\n",
              "      <td>54.38</td>\n",
              "      <td>58.54</td>\n",
              "    </tr>\n",
              "    <tr>\n",
              "      <th>3</th>\n",
              "      <td>Random Forest</td>\n",
              "      <td>57.43</td>\n",
              "      <td>53.50</td>\n",
              "      <td>56.07</td>\n",
              "      <td>58.12</td>\n",
              "    </tr>\n",
              "  </tbody>\n",
              "</table>\n",
              "</div>\n",
              "      <button class=\"colab-df-convert\" onclick=\"convertToInteractive('df-230543c1-0631-4464-8fa7-c8a5bf48c1f3')\"\n",
              "              title=\"Convert this dataframe to an interactive table.\"\n",
              "              style=\"display:none;\">\n",
              "        \n",
              "  <svg xmlns=\"http://www.w3.org/2000/svg\" height=\"24px\"viewBox=\"0 0 24 24\"\n",
              "       width=\"24px\">\n",
              "    <path d=\"M0 0h24v24H0V0z\" fill=\"none\"/>\n",
              "    <path d=\"M18.56 5.44l.94 2.06.94-2.06 2.06-.94-2.06-.94-.94-2.06-.94 2.06-2.06.94zm-11 1L8.5 8.5l.94-2.06 2.06-.94-2.06-.94L8.5 2.5l-.94 2.06-2.06.94zm10 10l.94 2.06.94-2.06 2.06-.94-2.06-.94-.94-2.06-.94 2.06-2.06.94z\"/><path d=\"M17.41 7.96l-1.37-1.37c-.4-.4-.92-.59-1.43-.59-.52 0-1.04.2-1.43.59L10.3 9.45l-7.72 7.72c-.78.78-.78 2.05 0 2.83L4 21.41c.39.39.9.59 1.41.59.51 0 1.02-.2 1.41-.59l7.78-7.78 2.81-2.81c.8-.78.8-2.07 0-2.86zM5.41 20L4 18.59l7.72-7.72 1.47 1.35L5.41 20z\"/>\n",
              "  </svg>\n",
              "      </button>\n",
              "      \n",
              "  <style>\n",
              "    .colab-df-container {\n",
              "      display:flex;\n",
              "      flex-wrap:wrap;\n",
              "      gap: 12px;\n",
              "    }\n",
              "\n",
              "    .colab-df-convert {\n",
              "      background-color: #E8F0FE;\n",
              "      border: none;\n",
              "      border-radius: 50%;\n",
              "      cursor: pointer;\n",
              "      display: none;\n",
              "      fill: #1967D2;\n",
              "      height: 32px;\n",
              "      padding: 0 0 0 0;\n",
              "      width: 32px;\n",
              "    }\n",
              "\n",
              "    .colab-df-convert:hover {\n",
              "      background-color: #E2EBFA;\n",
              "      box-shadow: 0px 1px 2px rgba(60, 64, 67, 0.3), 0px 1px 3px 1px rgba(60, 64, 67, 0.15);\n",
              "      fill: #174EA6;\n",
              "    }\n",
              "\n",
              "    [theme=dark] .colab-df-convert {\n",
              "      background-color: #3B4455;\n",
              "      fill: #D2E3FC;\n",
              "    }\n",
              "\n",
              "    [theme=dark] .colab-df-convert:hover {\n",
              "      background-color: #434B5C;\n",
              "      box-shadow: 0px 1px 3px 1px rgba(0, 0, 0, 0.15);\n",
              "      filter: drop-shadow(0px 1px 2px rgba(0, 0, 0, 0.3));\n",
              "      fill: #FFFFFF;\n",
              "    }\n",
              "  </style>\n",
              "\n",
              "      <script>\n",
              "        const buttonEl =\n",
              "          document.querySelector('#df-230543c1-0631-4464-8fa7-c8a5bf48c1f3 button.colab-df-convert');\n",
              "        buttonEl.style.display =\n",
              "          google.colab.kernel.accessAllowed ? 'block' : 'none';\n",
              "\n",
              "        async function convertToInteractive(key) {\n",
              "          const element = document.querySelector('#df-230543c1-0631-4464-8fa7-c8a5bf48c1f3');\n",
              "          const dataTable =\n",
              "            await google.colab.kernel.invokeFunction('convertToInteractive',\n",
              "                                                     [key], {});\n",
              "          if (!dataTable) return;\n",
              "\n",
              "          const docLinkHtml = 'Like what you see? Visit the ' +\n",
              "            '<a target=\"_blank\" href=https://colab.research.google.com/notebooks/data_table.ipynb>data table notebook</a>'\n",
              "            + ' to learn more about interactive tables.';\n",
              "          element.innerHTML = '';\n",
              "          dataTable['output_type'] = 'display_data';\n",
              "          await google.colab.output.renderOutput(dataTable, element);\n",
              "          const docLink = document.createElement('div');\n",
              "          docLink.innerHTML = docLinkHtml;\n",
              "          element.appendChild(docLink);\n",
              "        }\n",
              "      </script>\n",
              "    </div>\n",
              "  </div>\n",
              "  "
            ]
          },
          "metadata": {},
          "execution_count": 167
        }
      ]
    },
    {
      "cell_type": "markdown",
      "source": [
        "CONFUSION MATRIX CORRESPONDING TO RANDOM FOREST CLASSIFIER(OPTIMAL MODEL)."
      ],
      "metadata": {
        "id": "U8juPWTrjE_L"
      }
    },
    {
      "cell_type": "code",
      "source": [
        "from sklearn.metrics import confusion_matrix\n",
        "C_MATRIX = confusion_matrix(y_test, pred_rfc)\n",
        "C_MATRIX"
      ],
      "metadata": {
        "colab": {
          "base_uri": "https://localhost:8080/"
        },
        "id": "IUfHL4i6jL7C",
        "outputId": "299c3f18-32aa-4f82-883f-cfbf892fcd8b"
      },
      "execution_count": null,
      "outputs": [
        {
          "output_type": "execute_result",
          "data": {
            "text/plain": [
              "array([[85269, 40209],\n",
              "       [53835, 41601]])"
            ]
          },
          "metadata": {},
          "execution_count": 168
        }
      ]
    },
    {
      "cell_type": "markdown",
      "source": [
        "CLASSIFICATION REPORT OF RFC MODEL."
      ],
      "metadata": {
        "id": "XTVciM0Fjc0b"
      }
    },
    {
      "cell_type": "code",
      "source": [
        "from sklearn.metrics import accuracy_score\n",
        "from sklearn.metrics import classification_report\n",
        "\n",
        "print(classification_report(y_test, pred_rfc))"
      ],
      "metadata": {
        "id": "zocY9QIaji2G",
        "colab": {
          "base_uri": "https://localhost:8080/"
        },
        "outputId": "27187f71-9afa-49d6-a8a4-73eb5cebdfc2"
      },
      "execution_count": null,
      "outputs": [
        {
          "output_type": "stream",
          "name": "stdout",
          "text": [
            "              precision    recall  f1-score   support\n",
            "\n",
            "           0       0.61      0.68      0.64    125478\n",
            "           1       0.51      0.44      0.47     95436\n",
            "\n",
            "    accuracy                           0.57    220914\n",
            "   macro avg       0.56      0.56      0.56    220914\n",
            "weighted avg       0.57      0.57      0.57    220914\n",
            "\n"
          ]
        }
      ]
    },
    {
      "cell_type": "code",
      "source": [
        "#THEN ROC area under curve value\n",
        "\n",
        "ax = sns.heatmap(C_MATRIX/np.sum(C_MATRIX), annot=True, fmt='.2%', cmap='Blues')\n",
        "ax.set_title(' Confusion Matrix corresponding to Random Forest Classifier algorithm \\n');\n",
        "ax.set_xlabel('\\nPredicted Values')\n",
        "ax.set_ylabel('Actual Values ');\n",
        "\n",
        "## Ticket labels - List must be in alphabetical order\n",
        "ax.xaxis.set_ticklabels(['0','1'])\n",
        "ax.yaxis.set_ticklabels(['0','1'])\n",
        "\n",
        "## Display the visualization of the Confusion Matrix.\n",
        "# plt.savefig(\"cf_matrix_KNN.png\",bbox_inches='tight' )\n",
        "plt.show()\n",
        "print(\"accuracy of Random Forest :\", rfc_acc)"
      ],
      "metadata": {
        "colab": {
          "base_uri": "https://localhost:8080/",
          "height": 339
        },
        "id": "Okl7lQzUjoLH",
        "outputId": "428cd5fe-ae26-482a-fa09-0085c29e9b16"
      },
      "execution_count": null,
      "outputs": [
        {
          "output_type": "display_data",
          "data": {
            "text/plain": [
              "<Figure size 432x288 with 2 Axes>"
            ],
            "image/png": "[encoded data removed]"
          },
          "metadata": {
            "needs_background": "light"
          }
        },
        {
          "output_type": "stream",
          "name": "stdout",
          "text": [
            "accuracy of Random Forest : 57.42958798446455\n"
          ]
        }
      ]
    },
    {
      "cell_type": "code",
      "source": [
        "from sklearn import metrics\n",
        "rfc.fit(X_train_SMOTE, y_train_SMOTE)\n",
        "metrics.plot_roc_curve(rfc, X_test, y_test)\n",
        "plt.plot([0, 1], [0, 1], 'g--')\n",
        "plt.xlim([0.0, 1.0])\n",
        "plt.ylim([0.0, 1.0])\n",
        "plt.xlabel('False Positive Rate')\n",
        "plt.ylabel('True Positive Rate')\n",
        "plt.title('ROC Curve\\n\\n')\n",
        "#plt.savefig(\"ROC Curve.png\", bbox_inches = 'tight')\n",
        "plt.show()"
      ],
      "metadata": {
        "colab": {
          "base_uri": "https://localhost:8080/",
          "height": 325
        },
        "id": "8OpsEIzHkQC5",
        "outputId": "2855db18-f536-4908-cd7e-c55990bc2bf6"
      },
      "execution_count": null,
      "outputs": [
        {
          "output_type": "display_data",
          "data": {
            "text/plain": [
              "<Figure size 432x288 with 1 Axes>"
            ],
            "image/png": "[encoded data removed]"
          },
          "metadata": {
            "needs_background": "light"
          }
        }
      ]
    },
    {
      "cell_type": "markdown",
      "source": [
        "#FROM ABOVE GRAPH, AREA UNDER THE CURVE SCORE IS 0.58. IT SHOW THAT IT IS AN OPTIMAL CLASSIFIER."
      ],
      "metadata": {
        "id": "0yH5ZQR7krFg"
      }
    },
    {
      "cell_type": "code",
      "source": [
        "print(classification_report(y_test, pred_rfc))"
      ],
      "metadata": {
        "colab": {
          "base_uri": "https://localhost:8080/"
        },
        "id": "350_nuIBk3V2",
        "outputId": "df51577f-0295-490b-f3b8-218d9fa8f5ae"
      },
      "execution_count": null,
      "outputs": [
        {
          "output_type": "stream",
          "name": "stdout",
          "text": [
            "              precision    recall  f1-score   support\n",
            "\n",
            "           0       0.61      0.68      0.64    125478\n",
            "           1       0.51      0.44      0.47     95436\n",
            "\n",
            "    accuracy                           0.57    220914\n",
            "   macro avg       0.56      0.56      0.56    220914\n",
            "weighted avg       0.57      0.57      0.57    220914\n",
            "\n"
          ]
        }
      ]
    }
  ],
  "metadata": {
    "colab": {
      "collapsed_sections": [],
      "name": "capstone_final_code_0767830 & 0771949.ipynb",
      "provenance": []
    },
    "kernelspec": {
      "display_name": "Python 3",
      "name": "python3"
    },
    "language_info": {
      "name": "python"
    }
  },
  "nbformat": 4,
  "nbformat_minor": 0
}